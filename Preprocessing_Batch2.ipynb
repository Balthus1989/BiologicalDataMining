{
 "cells": [
  {
   "cell_type": "markdown",
   "metadata": {},
   "source": [
    "# Batch 2 Preprocessing\n",
    "Group 4: Damiano Chini, Riccardo Gilmozzi, Gianmarco Piccinno & Alessandro Rizzuto\n",
    "Useful links:\n",
    "https://github.com/ComplexityBiosystems/obesity-score\n",
    "https://www.ncbi.nlm.nih.gov/geo/query/acc.cgi?acc=GSE48964"
   ]
  },
  {
   "cell_type": "markdown",
   "metadata": {},
   "source": [
    "This code operates the preprocessing steps, namely (from the paper):\n",
    "\n",
    "1) Probes containing missing values are excluded from the analysis.\n",
    "\n",
    "2) Probes are mapped to Entrez ID labels if they are available in the associated platform.\n",
    "\n",
    "3) Values corresponding to raw expression counts or gene expression intensity are log2 transformed (if necessary).\n",
    "\n",
    "4) Probes mapping to the same Entrez ID label are averaged out.\n",
    "\n",
    "5) Probes that cannot be mapped to a unique Entrez ID label are excluded from the analysis, as well as those that cannot be mapped to any Entrez ID label at all.\n",
    "\n",
    "6) We apply a simple L 1 normalization in linear space, imposing that the sum of expression of all genes is constant among samples.\n",
    "\n",
    "After these steps, each data set or batch is represented by a single expression matrix X. Each entry X i j represents the log 2 of the expression intensity of gene i in sample j.\n"
   ]
  },
  {
   "cell_type": "code",
   "execution_count": 1,
   "metadata": {
    "collapsed": true
   },
   "outputs": [],
   "source": [
    "import GEOparse\n",
    "import pandas as pd"
   ]
  },
  {
   "cell_type": "code",
   "execution_count": 2,
   "metadata": {
    "collapsed": false
   },
   "outputs": [
    {
     "name": "stderr",
     "output_type": "stream",
     "text": [
      "11-Oct-2017 19:46:22 INFO GEOparse - Parsing ./data/GSE26637_family.soft.gz: \n",
      "11-Oct-2017 19:46:22 DEBUG GEOparse - DATABASE: GeoMiame\n",
      "11-Oct-2017 19:46:22 DEBUG GEOparse - SERIES: GSE26637\n",
      "11-Oct-2017 19:46:22 DEBUG GEOparse - PLATFORM: GPL570\n",
      "/home/gianmarco/anaconda3/lib/python3.6/site-packages/GEOparse/GEOparse.py:502: DtypeWarning: Columns (2) have mixed types. Specify dtype option on import or set low_memory=False.\n",
      "  gpls[entry_name] = parse_GPL(data_group, entry_name)\n",
      "11-Oct-2017 19:46:24 DEBUG GEOparse - SAMPLE: GSM655603\n",
      "11-Oct-2017 19:46:24 DEBUG GEOparse - SAMPLE: GSM655604\n",
      "11-Oct-2017 19:46:24 DEBUG GEOparse - SAMPLE: GSM655605\n",
      "11-Oct-2017 19:46:24 DEBUG GEOparse - SAMPLE: GSM655606\n",
      "11-Oct-2017 19:46:24 DEBUG GEOparse - SAMPLE: GSM655607\n",
      "11-Oct-2017 19:46:24 DEBUG GEOparse - SAMPLE: GSM655608\n",
      "11-Oct-2017 19:46:24 DEBUG GEOparse - SAMPLE: GSM655609\n",
      "11-Oct-2017 19:46:25 DEBUG GEOparse - SAMPLE: GSM655610\n",
      "11-Oct-2017 19:46:25 DEBUG GEOparse - SAMPLE: GSM655611\n",
      "11-Oct-2017 19:46:25 DEBUG GEOparse - SAMPLE: GSM655612\n",
      "11-Oct-2017 19:46:25 DEBUG GEOparse - SAMPLE: GSM655613\n",
      "11-Oct-2017 19:46:25 DEBUG GEOparse - SAMPLE: GSM655614\n",
      "11-Oct-2017 19:46:25 DEBUG GEOparse - SAMPLE: GSM655615\n",
      "11-Oct-2017 19:46:25 DEBUG GEOparse - SAMPLE: GSM655616\n",
      "11-Oct-2017 19:46:26 DEBUG GEOparse - SAMPLE: GSM655617\n",
      "11-Oct-2017 19:46:26 DEBUG GEOparse - SAMPLE: GSM655618\n",
      "11-Oct-2017 19:46:26 DEBUG GEOparse - SAMPLE: GSM655619\n",
      "11-Oct-2017 19:46:26 DEBUG GEOparse - SAMPLE: GSM655620\n",
      "11-Oct-2017 19:46:26 DEBUG GEOparse - SAMPLE: GSM655621\n",
      "11-Oct-2017 19:46:26 DEBUG GEOparse - SAMPLE: GSM655622\n"
     ]
    }
   ],
   "source": [
    "gse2 = GEOparse.get_GEO(filepath=\"./data/GSE26637_family.soft.gz\")"
   ]
  },
  {
   "cell_type": "code",
   "execution_count": 3,
   "metadata": {
    "collapsed": false
   },
   "outputs": [
    {
     "name": "stdout",
     "output_type": "stream",
     "text": [
      "GPL570\n"
     ]
    }
   ],
   "source": [
    "plats_2 = list(gse2.gpls.keys())[0]\n",
    "print(plats_2)"
   ]
  },
  {
   "cell_type": "markdown",
   "metadata": {},
   "source": [
    "Annotation table"
   ]
  },
  {
   "cell_type": "code",
   "execution_count": 4,
   "metadata": {
    "collapsed": false
   },
   "outputs": [
    {
     "name": "stdout",
     "output_type": "stream",
     "text": [
      "           gender    fasting_status insulin_status   cbmi\n",
      "GSM655603  female           fasting      resistant  obese\n",
      "GSM655604  female           fasting      resistant  obese\n",
      "GSM655605  female           fasting      resistant  obese\n",
      "GSM655606  female           fasting      resistant  obese\n",
      "GSM655607  female           fasting      resistant  obese\n",
      "GSM655608  female           fasting      sensitive   lean\n",
      "GSM655609  female           fasting      sensitive   lean\n",
      "GSM655610  female           fasting      sensitive   lean\n",
      "GSM655611  female           fasting      sensitive   lean\n",
      "GSM655612  female           fasting      sensitive   lean\n",
      "GSM655613  female  hyperinsulinemia      resistant  obese\n",
      "GSM655614  female  hyperinsulinemia      resistant  obese\n",
      "GSM655615  female  hyperinsulinemia      resistant  obese\n",
      "GSM655616  female  hyperinsulinemia      resistant  obese\n",
      "GSM655617  female  hyperinsulinemia      resistant  obese\n",
      "GSM655618  female  hyperinsulinemia      sensitive   lean\n",
      "GSM655619  female  hyperinsulinemia      sensitive   lean\n",
      "GSM655620  female  hyperinsulinemia      sensitive   lean\n",
      "GSM655621  female  hyperinsulinemia      sensitive   lean\n",
      "GSM655622  female  hyperinsulinemia      sensitive   lean\n"
     ]
    }
   ],
   "source": [
    "samples2 = gse2.phenotype_data[[\"characteristics_ch1.0.gender\", \"characteristics_ch1.2.stimulation\", \"characteristics_ch1.3.resistance status\"]]\n",
    "samples2 = samples2.rename(columns={'characteristics_ch1.0.gender':'gender', 'characteristics_ch1.2.stimulation':'fasting_status',\n",
    "                         'characteristics_ch1.3.resistance status':'insulin_status'})\n",
    "samples2['cbmi'] = samples2['insulin_status'].map(lambda x: 'lean' if x == 'sensitive' else 'obese')\n",
    "print(samples2)"
   ]
  },
  {
   "cell_type": "code",
   "execution_count": 15,
   "metadata": {
    "collapsed": false
   },
   "outputs": [],
   "source": [
    "samples2.to_pickle('./output/batch2_pheno.p')\n",
    "with open('./output/batch2_pheno.txt', 'w') as handle:\n",
    "    samples2.to_csv(handle, sep='\\t')"
   ]
  },
  {
   "cell_type": "markdown",
   "metadata": {},
   "source": [
    "# Preprocessing of Expression Data (Batch 2)"
   ]
  },
  {
   "cell_type": "code",
   "execution_count": 6,
   "metadata": {
    "collapsed": false
   },
   "outputs": [],
   "source": [
    "samples2_exprs = gse2.pivot_samples('VALUE')[list(samples2.index)]\n",
    "#print('Expression Table', '\\n', samples2_exprs.head())"
   ]
  },
  {
   "cell_type": "code",
   "execution_count": 7,
   "metadata": {
    "collapsed": false
   },
   "outputs": [],
   "source": [
    "samples2_ann = samples2_exprs.reset_index().merge(gse2.gpls['GPL570'].table[[\"ID\", \"ENTREZ_GENE_ID\"]],\n",
    "                                left_on='ID_REF', right_on=\"ID\").set_index('ID_REF')\n",
    "samples2_ann.drop('ID', inplace=True, axis=1)\n",
    "samples2_ann['ENTREZ_GENE_ID'] = samples2_ann['ENTREZ_GENE_ID'].astype(str)\n",
    "#print(samples2_ann.head())"
   ]
  },
  {
   "cell_type": "markdown",
   "metadata": {},
   "source": [
    "# 5) Probes that cannot be mapped to a unique Entrez ID label are excluded from the analysis, as well as those that cannot be mapped to any Entrez ID label at all."
   ]
  },
  {
   "cell_type": "code",
   "execution_count": 8,
   "metadata": {
    "collapsed": false
   },
   "outputs": [
    {
     "name": "stdout",
     "output_type": "stream",
     "text": [
      "54675\n",
      "52375\n",
      "52375\n"
     ]
    }
   ],
   "source": [
    "print(samples2_ann.shape[0])\n",
    "samples2_ann = samples2_ann[~samples2_ann.ENTREZ_GENE_ID.str.contains(\"///\")].dropna()\n",
    "samples2_ann['ENTREZ_GENE_ID'].astype(float, inplace=True)\n",
    "print(samples2_ann.shape[0])\n",
    "samples2_ann = samples2_ann.dropna()\n",
    "print(samples2_ann.shape[0])"
   ]
  },
  {
   "cell_type": "markdown",
   "metadata": {},
   "source": [
    "# 1) Probes containing missing values are excluded from the analysis."
   ]
  },
  {
   "cell_type": "markdown",
   "metadata": {},
   "source": [
    "# 2) Probes are mapped to Entrez ID labels if they are available in the associated platform."
   ]
  },
  {
   "cell_type": "markdown",
   "metadata": {},
   "source": [
    "\n",
    "# 3) Values corresponding to raw expression counts or gene expression intensity are log2 transformed (if necessary)."
   ]
  },
  {
   "cell_type": "markdown",
   "metadata": {},
   "source": [
    "# 4) Probes mapping to the same Entrez ID label are averaged out."
   ]
  },
  {
   "cell_type": "code",
   "execution_count": 9,
   "metadata": {
    "collapsed": false
   },
   "outputs": [
    {
     "name": "stdout",
     "output_type": "stream",
     "text": [
      "                GSM655603  GSM655604  GSM655605  GSM655606  GSM655607  \\\n",
      "ENTREZ_GENE_ID                                                          \n",
      "1                   2.110      2.130      2.120      2.140      2.290   \n",
      "10                  2.140      2.190      2.190      2.190      2.240   \n",
      "100                 6.075      6.145      6.820      6.010      6.065   \n",
      "1000                2.960      3.005      3.005      2.965      3.105   \n",
      "10000               5.230      3.810      3.710      4.310      4.020   \n",
      "\n",
      "                GSM655608  GSM655609  GSM655610  GSM655611  GSM655612  \\\n",
      "ENTREZ_GENE_ID                                                          \n",
      "1                   2.150      2.170       2.16      2.130      2.130   \n",
      "10                  2.200      2.180       2.23      2.290      3.330   \n",
      "100                 5.835      6.365       6.05      5.515      6.945   \n",
      "1000                3.050      3.110       3.04      3.015      3.015   \n",
      "10000               4.060      3.470       4.75      4.600      3.620   \n",
      "\n",
      "                GSM655613  GSM655614  GSM655615  GSM655616  GSM655617  \\\n",
      "ENTREZ_GENE_ID                                                          \n",
      "1                   2.160       2.13      2.130      2.130      2.120   \n",
      "10                  3.350       2.21      2.190      2.180      2.120   \n",
      "100                 6.360       6.23      7.645      7.105      7.720   \n",
      "1000                3.175       3.05      2.945      2.980      3.005   \n",
      "10000               4.060       3.92      4.860      4.870      3.540   \n",
      "\n",
      "                GSM655618  GSM655619  GSM655620  GSM655621  GSM655622  \n",
      "ENTREZ_GENE_ID                                                         \n",
      "1                   2.180       2.14      2.210       2.16      2.140  \n",
      "10                  2.260       2.20      2.210       2.21      2.170  \n",
      "100                 5.035       7.55      5.215       5.80      7.570  \n",
      "1000                3.285       3.03      3.225       3.07      3.025  \n",
      "10000               3.890       4.45      3.650       4.14      3.570  \n",
      "\n",
      " (20487, 20)\n"
     ]
    }
   ],
   "source": [
    "exprs_2 = samples2_ann.groupby('ENTREZ_GENE_ID').median()\n",
    "print(exprs_2.head())\n",
    "print('\\n', exprs_2.shape)"
   ]
  },
  {
   "cell_type": "markdown",
   "metadata": {},
   "source": [
    "# Write the eprs4 dataframe in a text file"
   ]
  },
  {
   "cell_type": "code",
   "execution_count": 16,
   "metadata": {
    "collapsed": true
   },
   "outputs": [],
   "source": [
    "to_write = exprs_2.T\n",
    "to_write.to_pickle('./output/batch2_exprs.p')\n",
    "with open('./output/batch2_geno.txt', 'w') as handle:\n",
    "    to_write.to_csv(handle, sep='\\t')"
   ]
  },
  {
   "cell_type": "markdown",
   "metadata": {},
   "source": [
    "# Comparison with the data provided by the authors"
   ]
  },
  {
   "cell_type": "code",
   "execution_count": 12,
   "metadata": {
    "collapsed": false
   },
   "outputs": [
    {
     "name": "stdout",
     "output_type": "stream",
     "text": [
      "(20, 20283) (20, 20487)\n"
     ]
    },
    {
     "data": {
      "text/plain": [
       "18978"
      ]
     },
     "execution_count": 12,
     "metadata": {},
     "output_type": "execute_result"
    }
   ],
   "source": [
    "or_data2 = pd.read_pickle('./data/GSE26637_geno.p')\n",
    "print(or_data2.shape, to_write.shape)\n",
    "len(set.intersection(set(or_data2.columns), set(to_write.columns)))"
   ]
  },
  {
   "cell_type": "markdown",
   "metadata": {},
   "source": [
    "# 6) We apply a simple L 1 normalization in linear space, imposing that the sum of expression of all genes is constant among samples."
   ]
  },
  {
   "cell_type": "code",
   "execution_count": null,
   "metadata": {
    "collapsed": true
   },
   "outputs": [],
   "source": []
  }
 ],
 "metadata": {
  "kernelspec": {
   "display_name": "Python 3",
   "language": "python",
   "name": "python3"
  },
  "language_info": {
   "codemirror_mode": {
    "name": "ipython",
    "version": 3
   },
   "file_extension": ".py",
   "mimetype": "text/x-python",
   "name": "python",
   "nbconvert_exporter": "python",
   "pygments_lexer": "ipython3",
   "version": "3.6.0"
  }
 },
 "nbformat": 4,
 "nbformat_minor": 2
}
