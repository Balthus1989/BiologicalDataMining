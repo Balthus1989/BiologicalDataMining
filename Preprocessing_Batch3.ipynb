{
 "cells": [
  {
   "cell_type": "markdown",
   "metadata": {},
   "source": [
    "# Batch 3 Preprocessing\n",
    "Group 4: Damiano Chini, Riccardo Gilmozzi, Gianmarco Piccinno & Alessandro Rizzuto\n",
    "Useful links:\n",
    "https://github.com/ComplexityBiosystems/obesity-score\n",
    "https://www.ncbi.nlm.nih.gov/geo/query/acc.cgi?acc=GSE48964"
   ]
  },
  {
   "cell_type": "markdown",
   "metadata": {},
   "source": [
    "This code operates the preprocessing steps, namely (from the paper):\n",
    "\n",
    "1) Probes containing missing values are excluded from the analysis.\n",
    "\n",
    "2) Probes are mapped to Entrez ID labels if they are available in the associated platform.\n",
    "\n",
    "3) Values corresponding to raw expression counts or gene expression intensity are log2 transformed (if necessary).\n",
    "\n",
    "4) Probes mapping to the same Entrez ID label are averaged out.\n",
    "\n",
    "5) Probes that cannot be mapped to a unique Entrez ID label are excluded from the analysis, as well as those that cannot be mapped to any Entrez ID label at all.\n",
    "\n",
    "6) We apply a simple L 1 normalization in linear space, imposing that the sum of expression of all genes is constant among samples.\n",
    "\n",
    "After these steps, each data set or batch is represented by a single expression matrix X. Each entry X i j represents the log 2 of the expression intensity of gene i in sample j.\n"
   ]
  },
  {
   "cell_type": "code",
   "execution_count": 17,
   "metadata": {
    "collapsed": true
   },
   "outputs": [],
   "source": [
    "import GEOparse\n",
    "import pandas as pd"
   ]
  },
  {
   "cell_type": "code",
   "execution_count": 18,
   "metadata": {
    "collapsed": false
   },
   "outputs": [
    {
     "name": "stderr",
     "output_type": "stream",
     "text": [
      "11-Oct-2017 19:46:55 INFO GEOparse - Parsing ./data/GSE27949_family.soft.gz: \n",
      "11-Oct-2017 19:46:55 DEBUG GEOparse - DATABASE: GeoMiame\n",
      "11-Oct-2017 19:46:55 DEBUG GEOparse - SERIES: GSE27949\n",
      "11-Oct-2017 19:46:55 DEBUG GEOparse - PLATFORM: GPL570\n",
      "/home/gianmarco/anaconda3/lib/python3.6/site-packages/GEOparse/GEOparse.py:502: DtypeWarning: Columns (2) have mixed types. Specify dtype option on import or set low_memory=False.\n",
      "  gpls[entry_name] = parse_GPL(data_group, entry_name)\n",
      "11-Oct-2017 19:46:57 DEBUG GEOparse - SAMPLE: GSM691122\n",
      "11-Oct-2017 19:46:57 DEBUG GEOparse - SAMPLE: GSM691123\n",
      "11-Oct-2017 19:46:57 DEBUG GEOparse - SAMPLE: GSM691124\n",
      "11-Oct-2017 19:46:57 DEBUG GEOparse - SAMPLE: GSM691125\n",
      "11-Oct-2017 19:46:57 DEBUG GEOparse - SAMPLE: GSM691126\n",
      "11-Oct-2017 19:46:57 DEBUG GEOparse - SAMPLE: GSM691127\n",
      "11-Oct-2017 19:46:58 DEBUG GEOparse - SAMPLE: GSM691128\n",
      "11-Oct-2017 19:46:58 DEBUG GEOparse - SAMPLE: GSM691129\n",
      "11-Oct-2017 19:46:58 DEBUG GEOparse - SAMPLE: GSM691130\n",
      "11-Oct-2017 19:46:58 DEBUG GEOparse - SAMPLE: GSM691131\n",
      "11-Oct-2017 19:46:58 DEBUG GEOparse - SAMPLE: GSM691132\n",
      "11-Oct-2017 19:46:58 DEBUG GEOparse - SAMPLE: GSM691133\n",
      "11-Oct-2017 19:46:58 DEBUG GEOparse - SAMPLE: GSM691134\n",
      "11-Oct-2017 19:46:58 DEBUG GEOparse - SAMPLE: GSM691135\n",
      "11-Oct-2017 19:46:59 DEBUG GEOparse - SAMPLE: GSM691136\n",
      "11-Oct-2017 19:46:59 DEBUG GEOparse - SAMPLE: GSM691137\n",
      "11-Oct-2017 19:46:59 DEBUG GEOparse - SAMPLE: GSM691138\n",
      "11-Oct-2017 19:46:59 DEBUG GEOparse - SAMPLE: GSM691139\n",
      "11-Oct-2017 19:46:59 DEBUG GEOparse - SAMPLE: GSM691140\n",
      "11-Oct-2017 19:46:59 DEBUG GEOparse - SAMPLE: GSM691141\n",
      "11-Oct-2017 19:46:59 DEBUG GEOparse - SAMPLE: GSM691142\n",
      "11-Oct-2017 19:47:00 DEBUG GEOparse - SAMPLE: GSM691143\n",
      "11-Oct-2017 19:47:00 DEBUG GEOparse - SAMPLE: GSM691144\n",
      "11-Oct-2017 19:47:00 DEBUG GEOparse - SAMPLE: GSM691145\n",
      "11-Oct-2017 19:47:00 DEBUG GEOparse - SAMPLE: GSM691146\n",
      "11-Oct-2017 19:47:00 DEBUG GEOparse - SAMPLE: GSM691147\n",
      "11-Oct-2017 19:47:00 DEBUG GEOparse - SAMPLE: GSM691148\n",
      "11-Oct-2017 19:47:00 DEBUG GEOparse - SAMPLE: GSM691149\n",
      "11-Oct-2017 19:47:01 DEBUG GEOparse - SAMPLE: GSM691150\n",
      "11-Oct-2017 19:47:01 DEBUG GEOparse - SAMPLE: GSM691151\n",
      "11-Oct-2017 19:47:01 DEBUG GEOparse - SAMPLE: GSM691152\n",
      "11-Oct-2017 19:47:01 DEBUG GEOparse - SAMPLE: GSM691153\n",
      "11-Oct-2017 19:47:01 DEBUG GEOparse - SAMPLE: GSM691154\n"
     ]
    }
   ],
   "source": [
    "gse3 = GEOparse.get_GEO(filepath=\"./data/GSE27949_family.soft.gz\")"
   ]
  },
  {
   "cell_type": "code",
   "execution_count": 19,
   "metadata": {
    "collapsed": false
   },
   "outputs": [
    {
     "name": "stdout",
     "output_type": "stream",
     "text": [
      "GPL570\n"
     ]
    }
   ],
   "source": [
    "plats_3 = list(gse3.gpls.keys())[0]\n",
    "print(plats_3)"
   ]
  },
  {
   "cell_type": "markdown",
   "metadata": {},
   "source": [
    "Annotation table"
   ]
  },
  {
   "cell_type": "code",
   "execution_count": 20,
   "metadata": {
    "collapsed": false
   },
   "outputs": [
    {
     "name": "stdout",
     "output_type": "stream",
     "text": [
      "                 cbmi   bmi\n",
      "GSM691122       obese  38.1\n",
      "GSM691123       obese  35.3\n",
      "GSM691124       obese  32.9\n",
      "GSM691125       obese  42.2\n",
      "GSM691126       obese  39.7\n",
      "GSM691127       obese  36.7\n",
      "GSM691128       obese  41.5\n",
      "GSM691129       obese  50.2\n",
      "GSM691130       obese  37.4\n",
      "GSM691131       obese  36.7\n",
      "GSM691132       obese  39.5\n",
      "GSM691133  overweight  27.2\n",
      "GSM691134       obese  33.2\n",
      "GSM691135  overweight  25.1\n",
      "GSM691136        lean  23.2\n",
      "GSM691137  overweight  27.8\n",
      "GSM691138       obese  31.8\n",
      "GSM691139  overweight  26.9\n",
      "GSM691140  overweight  27.4\n",
      "GSM691141  overweight  28.8\n",
      "GSM691142       obese  32.2\n",
      "GSM691143        lean  23.6\n",
      "GSM691144       obese  39.1\n",
      "GSM691145       obese  34.2\n",
      "GSM691146       obese  33.1\n",
      "GSM691147  overweight  26.4\n",
      "GSM691148  overweight  25.1\n",
      "GSM691149  overweight  27.3\n",
      "GSM691150  overweight  26.2\n",
      "GSM691151        lean  16.7\n",
      "GSM691152        lean  23.0\n",
      "GSM691153        lean  23.1\n",
      "GSM691154        lean  23.2\n"
     ]
    }
   ],
   "source": [
    "samples3 = gse3.phenotype_data[\"characteristics_ch1.1.bmi\"]\n",
    "samples3 = pd.DataFrame(samples3); samples3.head()\n",
    "samples3.rename(columns={\"characteristics_ch1.1.bmi\":\"bmi\"}, inplace=True)\n",
    "samples3[\"cbmi\"] = samples3[\"bmi\"].apply(lambda x: \"obese\" if (float(x) > 30) else (\"lean\" if (float(x) <= 25) else (\"overweight\" if (float(x) > 25) & (float(x) <= 30) else \"STRANGE\")) )\n",
    "samples3 = samples3[['cbmi', 'bmi']]\n",
    "\n",
    "print(samples3)"
   ]
  },
  {
   "cell_type": "code",
   "execution_count": 21,
   "metadata": {
    "collapsed": false
   },
   "outputs": [
    {
     "name": "stdout",
     "output_type": "stream",
     "text": [
      "<class 'numpy.float64'> <class 'str'> <class 'str'>\n",
      "<class 'str'> <class 'str'> <class 'str'>\n",
      "<class 'str'> <class 'str'> <class 'str'>\n",
      "<class 'str'> <class 'str'> <class 'str'>\n"
     ]
    },
    {
     "data": {
      "text/plain": [
       "True"
      ]
     },
     "execution_count": 21,
     "metadata": {},
     "output_type": "execute_result"
    }
   ],
   "source": [
    "or_samples3 = pd.read_pickle('./data/GSE27949_pheno.p')\n",
    "print(type(or_samples3['bmi'][0]), type(or_samples3['cbmi'][0]), type(or_samples3.index[0]))\n",
    "print(type(samples3['bmi'][0]), type(samples3['cbmi'][0]), type(samples3.index[0]))\n",
    "or_samples3['bmi'] = or_samples3['bmi'].astype(str)\n",
    "print(type(or_samples3['bmi'][0]), type(or_samples3['cbmi'][0]), type(or_samples3.index[0]))\n",
    "print(type(samples3['bmi'][0]), type(samples3['cbmi'][0]), type(samples3.index[0]))\n",
    "\n",
    "or_samples3_d = or_samples3.to_dict()\n",
    "samples3_d = samples3.to_dict()\n",
    "or_samples3_d == samples3_d"
   ]
  },
  {
   "cell_type": "code",
   "execution_count": 35,
   "metadata": {
    "collapsed": true
   },
   "outputs": [],
   "source": [
    "samples3.to_pickle('./output/batch3_pheno.p')\n",
    "with open('./output/batch3_pheno.txt', 'w') as handle:\n",
    "    samples3.to_csv(handle, sep='\\t')"
   ]
  },
  {
   "cell_type": "markdown",
   "metadata": {},
   "source": [
    "# Preprocessing of Expression Data (Batch 4)"
   ]
  },
  {
   "cell_type": "code",
   "execution_count": 23,
   "metadata": {
    "collapsed": false
   },
   "outputs": [
    {
     "name": "stdout",
     "output_type": "stream",
     "text": [
      "name       GSM691122  GSM691123  GSM691124  GSM691125  GSM691126  GSM691127  \\\n",
      "ID_REF                                                                        \n",
      "1007_s_at   7.004583   7.659500   7.430517   7.771238   7.683040   7.879629   \n",
      "1053_at     5.285030   5.253187   5.492071   5.738101   5.643463   5.356738   \n",
      "117_at      5.607604   5.476518   5.753545   5.453142   6.431755   4.901203   \n",
      "121_at      6.942938   7.450646   7.004481   7.251976   6.931031   7.162552   \n",
      "1255_g_at   2.840260   2.948136   2.827350   2.663054   2.610417   2.978128   \n",
      "\n",
      "name       GSM691128  GSM691129  GSM691130  GSM691131    ...      GSM691145  \\\n",
      "ID_REF                                                   ...                  \n",
      "1007_s_at   7.184948   7.124926   7.498073   7.687856    ...       7.767611   \n",
      "1053_at     5.775912   5.640174   5.262772   5.704770    ...       5.200273   \n",
      "117_at      6.298175   6.155661   5.073436   5.634631    ...       5.401797   \n",
      "121_at      6.570954   7.042676   6.968916   7.077937    ...       6.758132   \n",
      "1255_g_at   2.493905   2.745614   2.742668   2.670149    ...       2.837239   \n",
      "\n",
      "name       GSM691146  GSM691147  GSM691148  GSM691149  GSM691150  GSM691151  \\\n",
      "ID_REF                                                                        \n",
      "1007_s_at   7.769750   7.759780   7.925825   7.588576   8.013171   8.301649   \n",
      "1053_at     5.121898   5.655970   5.334950   5.479950   5.342561   5.664976   \n",
      "117_at      5.456835   5.242564   5.484471   4.999941   5.076155   5.034425   \n",
      "121_at      7.080725   7.290405   6.689023   6.793457   6.604402   7.339816   \n",
      "1255_g_at   2.766161   2.756533   2.719723   2.866922   2.704116   2.713577   \n",
      "\n",
      "name       GSM691152  GSM691153  GSM691154  \n",
      "ID_REF                                      \n",
      "1007_s_at   8.516437   7.764079   7.935316  \n",
      "1053_at     5.385453   5.530938   5.611537  \n",
      "117_at      5.414035   5.414752   5.142741  \n",
      "121_at      7.106812   6.752074   6.854420  \n",
      "1255_g_at   2.726565   2.589001   2.567418  \n",
      "\n",
      "[5 rows x 33 columns]\n"
     ]
    }
   ],
   "source": [
    "samples3_ = gse3.pivot_samples('VALUE')[list(samples3.index)]\n",
    "print(samples3_.head())\n"
   ]
  },
  {
   "cell_type": "code",
   "execution_count": 24,
   "metadata": {
    "collapsed": false
   },
   "outputs": [
    {
     "name": "stdout",
     "output_type": "stream",
     "text": [
      "           GSM691122  GSM691123  GSM691124  GSM691125  GSM691126  GSM691127  \\\n",
      "ID_REF                                                                        \n",
      "1007_s_at   7.004583   7.659500   7.430517   7.771238   7.683040   7.879629   \n",
      "1053_at     5.285030   5.253187   5.492071   5.738101   5.643463   5.356738   \n",
      "117_at      5.607604   5.476518   5.753545   5.453142   6.431755   4.901203   \n",
      "121_at      6.942938   7.450646   7.004481   7.251976   6.931031   7.162552   \n",
      "1255_g_at   2.840260   2.948136   2.827350   2.663054   2.610417   2.978128   \n",
      "\n",
      "           GSM691128  GSM691129  GSM691130  GSM691131        ...          \\\n",
      "ID_REF                                                       ...           \n",
      "1007_s_at   7.184948   7.124926   7.498073   7.687856        ...           \n",
      "1053_at     5.775912   5.640174   5.262772   5.704770        ...           \n",
      "117_at      6.298175   6.155661   5.073436   5.634631        ...           \n",
      "121_at      6.570954   7.042676   6.968916   7.077937        ...           \n",
      "1255_g_at   2.493905   2.745614   2.742668   2.670149        ...           \n",
      "\n",
      "           GSM691146  GSM691147  GSM691148  GSM691149  GSM691150  GSM691151  \\\n",
      "ID_REF                                                                        \n",
      "1007_s_at   7.769750   7.759780   7.925825   7.588576   8.013171   8.301649   \n",
      "1053_at     5.121898   5.655970   5.334950   5.479950   5.342561   5.664976   \n",
      "117_at      5.456835   5.242564   5.484471   4.999941   5.076155   5.034425   \n",
      "121_at      7.080725   7.290405   6.689023   6.793457   6.604402   7.339816   \n",
      "1255_g_at   2.766161   2.756533   2.719723   2.866922   2.704116   2.713577   \n",
      "\n",
      "           GSM691152  GSM691153  GSM691154     ENTREZ_GENE_ID  \n",
      "ID_REF                                                         \n",
      "1007_s_at   8.516437   7.764079   7.935316  780 /// 100616237  \n",
      "1053_at     5.385453   5.530938   5.611537               5982  \n",
      "117_at      5.414035   5.414752   5.142741               3310  \n",
      "121_at      7.106812   6.752074   6.854420               7849  \n",
      "1255_g_at   2.726565   2.589001   2.567418               2978  \n",
      "\n",
      "[5 rows x 34 columns] \n",
      "\n",
      " 54675\n"
     ]
    }
   ],
   "source": [
    "samples3_ann = samples3_.reset_index().merge(gse3.gpls['GPL570'].table[[\"ID\", \"ENTREZ_GENE_ID\"]],\n",
    "                                left_on='ID_REF', right_on=\"ID\").set_index('ID_REF')\n",
    "del samples3_ann[\"ID\"]\n",
    "samples3_ann['ENTREZ_GENE_ID'] = samples3_ann['ENTREZ_GENE_ID'].astype(str)\n",
    "print(samples3_ann.head(), '\\n\\n', samples3_ann.shape[0])"
   ]
  },
  {
   "cell_type": "markdown",
   "metadata": {},
   "source": [
    "# 5) Probes that cannot be mapped to a unique Entrez ID label are excluded from the analysis, as well as those that cannot be mapped to any Entrez ID label at all."
   ]
  },
  {
   "cell_type": "code",
   "execution_count": 25,
   "metadata": {
    "collapsed": false
   },
   "outputs": [
    {
     "name": "stdout",
     "output_type": "stream",
     "text": [
      "54675\n"
     ]
    }
   ],
   "source": [
    "print(samples3_ann.shape[0])\n",
    "samples3_ann = samples3_ann[~samples3_ann.ENTREZ_GENE_ID.str.contains(\"///\")]"
   ]
  },
  {
   "cell_type": "code",
   "execution_count": 26,
   "metadata": {
    "collapsed": false
   },
   "outputs": [
    {
     "name": "stdout",
     "output_type": "stream",
     "text": [
      "52375\n",
      "41834\n"
     ]
    }
   ],
   "source": [
    "samples3_ann['ENTREZ_GENE_ID'] = samples3_ann['ENTREZ_GENE_ID'].astype(float)\n",
    "print(samples3_ann.shape[0])\n",
    "samples3_ann = samples3_ann.dropna()\n",
    "print(samples3_ann.shape[0])\n",
    "samples3_ann['ENTREZ_GENE_ID'] = samples3_ann['ENTREZ_GENE_ID'].astype(int)\n",
    "samples3_ann['ENTREZ_GENE_ID'] = samples3_ann['ENTREZ_GENE_ID'].astype(str)\n"
   ]
  },
  {
   "cell_type": "markdown",
   "metadata": {},
   "source": [
    "# 1) Probes containing missing values are excluded from the analysis."
   ]
  },
  {
   "cell_type": "code",
   "execution_count": 27,
   "metadata": {
    "collapsed": false
   },
   "outputs": [
    {
     "name": "stdout",
     "output_type": "stream",
     "text": [
      "(41834, 34)\n",
      "(41834, 34)\n"
     ]
    }
   ],
   "source": [
    "print(samples3_ann.shape)\n",
    "samples3_ann = samples3_ann.dropna()\n",
    "print(samples3_ann.shape)"
   ]
  },
  {
   "cell_type": "markdown",
   "metadata": {},
   "source": [
    "# 2) Probes are mapped to Entrez ID labels if they are available in the associated platform."
   ]
  },
  {
   "cell_type": "markdown",
   "metadata": {},
   "source": [
    "\n",
    "# 3) Values corresponding to raw expression counts or gene expression intensity are log2 transformed (if necessary)."
   ]
  },
  {
   "cell_type": "markdown",
   "metadata": {},
   "source": [
    "# 4) Probes mapping to the same Entrez ID label are averaged out."
   ]
  },
  {
   "cell_type": "code",
   "execution_count": 28,
   "metadata": {
    "collapsed": false
   },
   "outputs": [
    {
     "name": "stdout",
     "output_type": "stream",
     "text": [
      "                GSM691122  GSM691123  GSM691124  GSM691125  GSM691126  \\\n",
      "ENTREZ_GENE_ID                                                          \n",
      "1                4.202563   3.853392   4.005799   3.775287   3.988817   \n",
      "10               3.611358   3.900851   3.670345   3.989030   3.699571   \n",
      "100              5.526316   5.553305   5.527924   5.899559   5.844783   \n",
      "1000             3.781192   3.881830   3.518877   3.740666   3.540397   \n",
      "10000            4.521154   4.355984   4.752987   4.277416   4.410266   \n",
      "\n",
      "                GSM691127  GSM691128  GSM691129  GSM691130  GSM691131  \\\n",
      "ENTREZ_GENE_ID                                                          \n",
      "1                4.074538   3.789106   3.985469   4.202136   3.929663   \n",
      "10               4.050322   3.687475   3.788186   4.230811   4.020388   \n",
      "100              5.752965   6.008601   5.560185   6.149886   6.078632   \n",
      "1000             3.609309   3.587624   3.610829   3.501181   3.365197   \n",
      "10000            4.467307   4.573366   4.229275   4.221578   4.362966   \n",
      "\n",
      "                  ...      GSM691145  GSM691146  GSM691147  GSM691148  \\\n",
      "ENTREZ_GENE_ID    ...                                                   \n",
      "1                 ...       4.035109   4.505537   3.688537   4.021974   \n",
      "10                ...       4.260082   3.755154   4.273325   3.764177   \n",
      "100               ...       6.150959   5.858245   6.099553   6.562532   \n",
      "1000              ...       3.537610   3.925105   3.738994   3.721691   \n",
      "10000             ...       4.302391   4.348741   4.414892   4.134308   \n",
      "\n",
      "                GSM691149  GSM691150  GSM691151  GSM691152  GSM691153  \\\n",
      "ENTREZ_GENE_ID                                                          \n",
      "1                3.859197   4.016395   3.853851   3.905869   3.933165   \n",
      "10               3.931262   3.856003   3.631455   3.812028   4.106960   \n",
      "100              6.097076   5.970264   5.229485   5.441216   6.344840   \n",
      "1000             3.315593   3.471609   3.578582   3.718983   3.683929   \n",
      "10000            4.327611   4.488344   4.229990   4.791674   4.489651   \n",
      "\n",
      "                GSM691154  \n",
      "ENTREZ_GENE_ID             \n",
      "1                3.731458  \n",
      "10               4.014231  \n",
      "100              6.026648  \n",
      "1000             3.618684  \n",
      "10000            4.827196  \n",
      "\n",
      "[5 rows x 33 columns]\n",
      "\n",
      " (20486, 33)\n"
     ]
    }
   ],
   "source": [
    "exprs_3 = samples3_ann.groupby('ENTREZ_GENE_ID').median()\n",
    "print(exprs_3.head())\n",
    "print('\\n', exprs_3.shape)"
   ]
  },
  {
   "cell_type": "markdown",
   "metadata": {},
   "source": [
    "# Write the eprs4 dataframe in a text file"
   ]
  },
  {
   "cell_type": "code",
   "execution_count": 36,
   "metadata": {
    "collapsed": false
   },
   "outputs": [],
   "source": [
    "exprs3 = exprs_3.T\n",
    "exprs3.to_pickle('./output/batch3_exprs.p')\n",
    "with open('./output/batch3_geno.txt', 'w') as handle:\n",
    "    exprs3.to_csv(handle, sep='\\t')"
   ]
  },
  {
   "cell_type": "markdown",
   "metadata": {},
   "source": [
    "# Comparison with the data provided by the authors"
   ]
  },
  {
   "cell_type": "code",
   "execution_count": 32,
   "metadata": {
    "collapsed": false
   },
   "outputs": [
    {
     "name": "stdout",
     "output_type": "stream",
     "text": [
      "(33, 20283) (33, 20486)\n",
      "18978\n",
      "<class 'str'>\n",
      "<class 'str'>\n"
     ]
    }
   ],
   "source": [
    "or_data3 = pd.read_pickle('./data/GSE27949_geno.p')\n",
    "print(or_data3.shape, exprs3.shape)\n",
    "print(len(set.intersection(set(or_data3.columns), set(exprs3.columns))))\n",
    "print(type(or_data3.columns[0]))\n",
    "print(type(exprs3.columns[0]))"
   ]
  },
  {
   "cell_type": "markdown",
   "metadata": {},
   "source": [
    "# 6) We apply a simple L 1 normalization in linear space, imposing that the sum of expression of all genes is constant among samples."
   ]
  },
  {
   "cell_type": "code",
   "execution_count": null,
   "metadata": {
    "collapsed": true
   },
   "outputs": [],
   "source": []
  }
 ],
 "metadata": {
  "kernelspec": {
   "display_name": "Python 3",
   "language": "python",
   "name": "python3"
  },
  "language_info": {
   "codemirror_mode": {
    "name": "ipython",
    "version": 3
   },
   "file_extension": ".py",
   "mimetype": "text/x-python",
   "name": "python",
   "nbconvert_exporter": "python",
   "pygments_lexer": "ipython3",
   "version": "3.6.0"
  }
 },
 "nbformat": 4,
 "nbformat_minor": 2
}
