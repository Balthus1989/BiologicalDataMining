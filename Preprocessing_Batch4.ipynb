{
 "cells": [
  {
   "cell_type": "markdown",
   "metadata": {},
   "source": [
    "# Batch 4 Preprocessing\n",
    "Group 4: Damiano Chini, Riccardo Gilmozzi, Gianmarco Piccinno & Alessandro Rizzuto\n",
    "Useful links:\n",
    "https://github.com/ComplexityBiosystems/obesity-score\n",
    "https://www.ncbi.nlm.nih.gov/geo/query/acc.cgi?acc=GSE48964"
   ]
  },
  {
   "cell_type": "markdown",
   "metadata": {},
   "source": [
    "This code operates the preprocessing steps, namely (from the paper):\n",
    "\n",
    "1) Probes containing missing values are excluded from the analysis.\n",
    "\n",
    "2) Probes are mapped to Entrez ID labels if they are available in the associated platform.\n",
    "\n",
    "3) Values corresponding to raw expression counts or gene expression intensity are log2 transformed (if necessary).\n",
    "\n",
    "4) Probes mapping to the same Entrez ID label are averaged out.\n",
    "\n",
    "5) Probes that cannot be mapped to a unique Entrez ID label are excluded from the analysis, as well as those that cannot be mapped to any Entrez ID label at all.\n",
    "\n",
    "6) We apply a simple L 1 normalization in linear space, imposing that the sum of expression of all genes is constant among samples.\n",
    "\n",
    "After these steps, each data set or batch is represented by a single expression matrix X. Each entry X i j represents the log 2 of the expression intensity of gene i in sample j.\n"
   ]
  },
  {
   "cell_type": "code",
   "execution_count": 1,
   "metadata": {
    "collapsed": true
   },
   "outputs": [],
   "source": [
    "import GEOparse\n",
    "import pandas as pd"
   ]
  },
  {
   "cell_type": "code",
   "execution_count": 2,
   "metadata": {
    "collapsed": false
   },
   "outputs": [
    {
     "name": "stderr",
     "output_type": "stream",
     "text": [
      "11-Oct-2017 19:37:40 INFO GEOparse - Parsing ./data/GSE48964_family.soft.gz: \n",
      "11-Oct-2017 19:37:40 DEBUG GEOparse - DATABASE: GeoMiame\n",
      "11-Oct-2017 19:37:40 DEBUG GEOparse - SERIES: GSE48964\n",
      "11-Oct-2017 19:37:40 DEBUG GEOparse - PLATFORM: GPL6244\n",
      "11-Oct-2017 19:37:42 DEBUG GEOparse - SAMPLE: GSM1187673\n",
      "11-Oct-2017 19:37:42 DEBUG GEOparse - SAMPLE: GSM1187674\n",
      "11-Oct-2017 19:37:42 DEBUG GEOparse - SAMPLE: GSM1187675\n",
      "11-Oct-2017 19:37:42 DEBUG GEOparse - SAMPLE: GSM1187676\n",
      "11-Oct-2017 19:37:42 DEBUG GEOparse - SAMPLE: GSM1187677\n",
      "11-Oct-2017 19:37:42 DEBUG GEOparse - SAMPLE: GSM1187678\n"
     ]
    }
   ],
   "source": [
    "gse4 = GEOparse.get_GEO(filepath=\"./data/GSE48964_family.soft.gz\")"
   ]
  },
  {
   "cell_type": "code",
   "execution_count": 3,
   "metadata": {
    "collapsed": false
   },
   "outputs": [
    {
     "name": "stdout",
     "output_type": "stream",
     "text": [
      "GPL6244\n"
     ]
    }
   ],
   "source": [
    "plats_4 = list(gse4.gpls.keys())[0]\n",
    "print(plats_4)"
   ]
  },
  {
   "cell_type": "markdown",
   "metadata": {},
   "source": [
    "Annotation table"
   ]
  },
  {
   "cell_type": "code",
   "execution_count": 20,
   "metadata": {
    "collapsed": false
   },
   "outputs": [
    {
     "name": "stdout",
     "output_type": "stream",
     "text": [
      "             cbmi\n",
      "GSM1187673  obese\n",
      "GSM1187674  obese\n",
      "GSM1187675  obese\n",
      "GSM1187676   lean\n",
      "GSM1187677   lean\n",
      "6\n",
      "(6, 1)\n"
     ]
    }
   ],
   "source": [
    "samples4 = gse4.phenotype_data[\"source_name_ch1\"]\n",
    "samples4 = pd.DataFrame(samples4); samples4.head()\n",
    "samples4.rename(columns={\"source_name_ch1\":\"cbmi\"}, inplace=True); samples4.head()\n",
    "samples4[\"cbmi\"] = samples4[\"cbmi\"].apply(lambda x: 'obese' if x.split(' ')[1].lower()=='obese' else 'lean'); samples4.head()\n",
    "print(samples4.head()); print(len(samples4))\n",
    "print(samples4.shape)"
   ]
  },
  {
   "cell_type": "code",
   "execution_count": 25,
   "metadata": {
    "collapsed": true
   },
   "outputs": [],
   "source": [
    "samples4.to_pickle('./output/batch4_pheno.p')\n",
    "with open('./output/batch4_pheno.txt', 'w') as handle:\n",
    "    samples4.to_csv(handle, sep='\\t')"
   ]
  },
  {
   "cell_type": "markdown",
   "metadata": {},
   "source": [
    "# Preprocessing of Expression Data (Batch 4)"
   ]
  },
  {
   "cell_type": "code",
   "execution_count": 6,
   "metadata": {
    "collapsed": false
   },
   "outputs": [
    {
     "name": "stdout",
     "output_type": "stream",
     "text": [
      "Expression Table \n",
      " name     GSM1187673  GSM1187674  GSM1187675  GSM1187676  GSM1187677  \\\n",
      "ID                                                                    \n",
      "7892501     4.14123     3.69950     4.97979     5.18763     6.36756   \n",
      "7892502     5.43273     5.83503     4.95171     5.01420     5.61799   \n",
      "7892503     4.19429     4.65989     6.82531     4.47086     4.17932   \n",
      "7892504     9.02873     8.80280     8.53222     8.67004     9.11426   \n",
      "7892505     4.47112     4.15105     5.47718     4.37622     5.17555   \n",
      "\n",
      "name     GSM1187678  \n",
      "ID                   \n",
      "7892501     5.24355  \n",
      "7892502     5.71236  \n",
      "7892503     6.35435  \n",
      "7892504     8.83972  \n",
      "7892505     4.36861  \n"
     ]
    }
   ],
   "source": [
    "samples4_exprs = gse4.pivot_samples('VALUE')[list(samples4.index)]\n",
    "samples4_exprs.index.name = 'ID'\n",
    "print('Expression Table', '\\n', samples4_exprs.head())"
   ]
  },
  {
   "cell_type": "markdown",
   "metadata": {},
   "source": [
    "We are considering the annotation table the one contained in the GPL6244.annot file (https://www.ncbi.nlm.nih.gov/geo/query/acc.cgi?acc=GPL6244).\n",
    "\n",
    "ID = ID from Platform data table\n",
    "\n",
    "Gene ID = Entrez Gene identifier\n",
    "\n",
    "The column containing the Entrez_ID is Gene ID!!!"
   ]
  },
  {
   "cell_type": "code",
   "execution_count": 7,
   "metadata": {
    "collapsed": false
   },
   "outputs": [
    {
     "name": "stdout",
     "output_type": "stream",
     "text": [
      "Annotation Table:  \n",
      "                                      Gene ID\n",
      "ID                                          \n",
      "7896736                                  NaN\n",
      "7896738                                  NaN\n",
      "7896740                81099///79501///26682\n",
      "7896742  100134822///346288///140849///55251\n",
      "7896744      729759///441308///81399///26683\n"
     ]
    }
   ],
   "source": [
    "ann_table4 = pd.read_csv('./data/GPL6244.annot', sep='\\t', skiprows=27, dtype=str, na_values='NaN',usecols=[0,3], index_col=0)#.dropna()\n",
    "print('Annotation Table: ', '\\n', ann_table4.head())"
   ]
  },
  {
   "cell_type": "markdown",
   "metadata": {},
   "source": [
    "Remove probes without ENTREZ ID"
   ]
  },
  {
   "cell_type": "markdown",
   "metadata": {},
   "source": [
    "# 1) Probes containing missing values are excluded from the analysis."
   ]
  },
  {
   "cell_type": "code",
   "execution_count": 8,
   "metadata": {
    "collapsed": false
   },
   "outputs": [
    {
     "name": "stdout",
     "output_type": "stream",
     "text": [
      "(33297, 6)\n",
      "(33297, 6)\n"
     ]
    }
   ],
   "source": [
    "print(samples4_exprs.shape)\n",
    "samples4_exprs = samples4_exprs.dropna()\n",
    "print(samples4_exprs.shape)"
   ]
  },
  {
   "cell_type": "markdown",
   "metadata": {},
   "source": [
    "# 5) Probes that cannot be mapped to a unique Entrez ID label are excluded from the analysis, as well as those that cannot be mapped to any Entrez ID label at all."
   ]
  },
  {
   "cell_type": "code",
   "execution_count": 9,
   "metadata": {
    "collapsed": false,
    "scrolled": false
   },
   "outputs": [
    {
     "name": "stdout",
     "output_type": "stream",
     "text": [
      "                                     Gene ID\n",
      "ID                                          \n",
      "7896740                81099///79501///26682\n",
      "7896742  100134822///346288///140849///55251\n",
      "7896744      729759///441308///81399///26683\n",
      "7896754                100287934///100287497\n",
      "7896756                      400728///157693\n"
     ]
    }
   ],
   "source": [
    "ann_table = ann_table4.dropna()\n",
    "print(ann_table.head())"
   ]
  },
  {
   "cell_type": "markdown",
   "metadata": {},
   "source": [
    "Remove ids that refer to different Entrez ids:\n",
    "for example\n",
    "         ID                              Gene ID\n",
    "2   7896740                81099///79501///26682\n"
   ]
  },
  {
   "cell_type": "code",
   "execution_count": 10,
   "metadata": {
    "collapsed": false,
    "scrolled": false
   },
   "outputs": [
    {
     "name": "stdout",
     "output_type": "stream",
     "text": [
      "        Gene ID\n",
      "ID             \n",
      "7896759  643837\n",
      "7896761  148398\n",
      "7896779  339451\n",
      "7896798   84069\n",
      "7896817    9636\n",
      "(20052, 1)\n"
     ]
    }
   ],
   "source": [
    "ann_table = ann_table[~ann_table['Gene ID'].str.contains(\"///\")]\n",
    "print(ann_table.head())\n",
    "print(ann_table.shape)"
   ]
  },
  {
   "cell_type": "markdown",
   "metadata": {},
   "source": [
    "# 2) Probes are mapped to Entrez ID labels if they are available in the associated platform."
   ]
  },
  {
   "cell_type": "code",
   "execution_count": 11,
   "metadata": {
    "collapsed": false,
    "scrolled": false
   },
   "outputs": [
    {
     "name": "stdout",
     "output_type": "stream",
     "text": [
      "<class 'str'>\n",
      "<class 'numpy.int64'>\n",
      "<class 'str'>\n",
      "<class 'str'>\n"
     ]
    }
   ],
   "source": [
    "print(type(ann_table.index[0]))\n",
    "print(type(samples4_exprs.index[0]))\n",
    "samples4_exprs.index = samples4_exprs.index.astype(str)\n",
    "print(type(ann_table.index[0]))\n",
    "print(type(samples4_exprs.index[0]))"
   ]
  },
  {
   "cell_type": "code",
   "execution_count": 12,
   "metadata": {
    "collapsed": false
   },
   "outputs": [
    {
     "name": "stdout",
     "output_type": "stream",
     "text": [
      "        Gene ID  GSM1187673  GSM1187674  GSM1187675  GSM1187676  GSM1187677  \\\n",
      "ID                                                                            \n",
      "7896759  643837     8.39817     8.50222     8.16782     8.52986     8.80022   \n",
      "7896761  148398     8.05877     8.15524     7.81207     7.79663     7.98804   \n",
      "7896779  339451     8.52992     8.55970     8.48987     8.37219     8.52200   \n",
      "7896798   84069     8.58032     8.49331     8.50711     8.46933     8.48800   \n",
      "7896817    9636     8.04444     8.12649     8.08356     7.92055     7.71697   \n",
      "\n",
      "         GSM1187678  \n",
      "ID                   \n",
      "7896759     8.32601  \n",
      "7896761     8.13137  \n",
      "7896779     8.64135  \n",
      "7896798     8.49557  \n",
      "7896817     7.85109  \n",
      "\n",
      "Shape of the complete DataFrame:  (20052, 7)\n"
     ]
    }
   ],
   "source": [
    "exprs_4 = ann_table.merge(samples4_exprs, left_index=True, right_index=True, how='inner')\n",
    "#exprs_4.index = exprs_4['Gene ID']; del exprs_4['Gene ID']\n",
    "print(exprs_4.head())\n",
    "print('\\nShape of the complete DataFrame: ', exprs_4.shape)"
   ]
  },
  {
   "cell_type": "markdown",
   "metadata": {},
   "source": [
    "\n",
    "# 3) Values corresponding to raw expression counts or gene expression intensity are log2 transformed (if necessary)."
   ]
  },
  {
   "cell_type": "markdown",
   "metadata": {},
   "source": [
    "# 4) Probes mapping to the same Entrez ID label are averaged out."
   ]
  },
  {
   "cell_type": "code",
   "execution_count": 13,
   "metadata": {
    "collapsed": false
   },
   "outputs": [
    {
     "name": "stdout",
     "output_type": "stream",
     "text": [
      "         GSM1187673  GSM1187674  GSM1187675  GSM1187676  GSM1187677  \\\n",
      "Gene ID                                                               \n",
      "1           8.35427     8.42801     8.21779     8.31298     8.28053   \n",
      "10          4.80774     5.20881     4.83953     4.92198     5.06599   \n",
      "100        10.14680     9.79308    10.29420    10.41020    10.68150   \n",
      "1000       12.85520    12.69220    12.49910    10.47370    12.68170   \n",
      "10000      10.62110    10.43620    10.36570    10.29150    10.42170   \n",
      "\n",
      "         GSM1187678  \n",
      "Gene ID              \n",
      "1           8.26724  \n",
      "10          5.09882  \n",
      "100         9.95644  \n",
      "1000       12.75540  \n",
      "10000      10.35980  \n",
      "\n",
      " (19036, 6)\n"
     ]
    }
   ],
   "source": [
    "exprs_4 = exprs_4.groupby('Gene ID').mean()\n",
    "print(exprs_4.head())\n",
    "print('\\n', exprs_4.shape)"
   ]
  },
  {
   "cell_type": "markdown",
   "metadata": {},
   "source": [
    "# Write the eprs4 dataframe in a text file"
   ]
  },
  {
   "cell_type": "code",
   "execution_count": 24,
   "metadata": {
    "collapsed": true
   },
   "outputs": [],
   "source": [
    "exprs4 = exprs_4.T\n",
    "exprs4.to_pickle('./output/batch4_exprs.p')\n",
    "with open('./output/batch4_geno.txt', 'w') as handle:\n",
    "    exprs4.to_csv(handle, sep='\\t')"
   ]
  },
  {
   "cell_type": "markdown",
   "metadata": {},
   "source": [
    "# Comparison with the data provided by the authors"
   ]
  },
  {
   "cell_type": "code",
   "execution_count": 18,
   "metadata": {
    "collapsed": false
   },
   "outputs": [
    {
     "name": "stdout",
     "output_type": "stream",
     "text": [
      "\n",
      " (6, 16193) (6, 19036)\n",
      "Intersection:  15697\n"
     ]
    }
   ],
   "source": [
    "or_data4 = pd.read_pickle('./data/GSE48964_geno.p')\n",
    "#print(or_data4.head())\n",
    "print('\\n', or_data4.shape, exprs4.shape)\n",
    "print('Intersection: ', len(set.intersection(set(exprs4.columns), set(or_data4.columns))))"
   ]
  },
  {
   "cell_type": "markdown",
   "metadata": {},
   "source": [
    "# 6) We apply a simple L 1 normalization in linear space, imposing that the sum of expression of all genes is constant among samples."
   ]
  },
  {
   "cell_type": "code",
   "execution_count": null,
   "metadata": {
    "collapsed": true
   },
   "outputs": [],
   "source": []
  }
 ],
 "metadata": {
  "kernelspec": {
   "display_name": "Python 3",
   "language": "python",
   "name": "python3"
  },
  "language_info": {
   "codemirror_mode": {
    "name": "ipython",
    "version": 3
   },
   "file_extension": ".py",
   "mimetype": "text/x-python",
   "name": "python",
   "nbconvert_exporter": "python",
   "pygments_lexer": "ipython3",
   "version": "3.6.0"
  }
 },
 "nbformat": 4,
 "nbformat_minor": 2
}
