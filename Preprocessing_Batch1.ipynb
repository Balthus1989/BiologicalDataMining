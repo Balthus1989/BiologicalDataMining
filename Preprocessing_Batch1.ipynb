{
 "cells": [
  {
   "cell_type": "markdown",
   "metadata": {},
   "source": [
    "# Batch 1 Preprocessing\n",
    "Group 4: Damiano Chini, Riccardo Gilmozzi, Gianmarco Piccinno & Alessandro Rizzuto\n",
    "Useful links:\n",
    "https://github.com/ComplexityBiosystems/obesity-score\n",
    "https://www.ncbi.nlm.nih.gov/geo/query/acc.cgi?acc=GSE2508"
   ]
  },
  {
   "cell_type": "markdown",
   "metadata": {},
   "source": [
    "This code operates the preprocessing steps, namely (from the paper):\n",
    "\n",
    "1) Probes containing missing values are excluded from the analysis.\n",
    "\n",
    "2) Probes are mapped to Entrez ID labels if they are available in the associated platform.\n",
    "\n",
    "3) Values corresponding to raw expression counts or gene expression intensity are log2 transformed (if necessary).\n",
    "\n",
    "4) Probes mapping to the same Entrez ID label are averaged out.\n",
    "\n",
    "5) Probes that cannot be mapped to a unique Entrez ID label are excluded from the analysis, as well as those that cannot be mapped to any Entrez ID label at all.\n",
    "\n",
    "6) We apply a simple L 1 normalization in linear space, imposing that the sum of expression of all genes is constant among samples.\n",
    "\n",
    "After these steps, each data set or batch is represented by a single expression matrix X. Each entry X i j represents the log 2 of the expression intensity of gene i in sample j.\n"
   ]
  },
  {
   "cell_type": "code",
   "execution_count": 2,
   "metadata": {
    "collapsed": true
   },
   "outputs": [],
   "source": [
    "import GEOparse\n",
    "import pandas as pd\n",
    "import numpy as np\n",
    "from functools import *\n",
    "import re"
   ]
  },
  {
   "cell_type": "code",
   "execution_count": 3,
   "metadata": {
    "collapsed": false
   },
   "outputs": [
    {
     "name": "stderr",
     "output_type": "stream",
     "text": [
      "11-Oct-2017 19:44:52 INFO GEOparse - Parsing ./data/GSE2508_family.soft.gz: \n",
      "11-Oct-2017 19:44:52 DEBUG GEOparse - DATABASE: GeoMiame\n",
      "11-Oct-2017 19:44:52 DEBUG GEOparse - SERIES: GSE2508\n",
      "11-Oct-2017 19:44:52 DEBUG GEOparse - PLATFORM: GPL91\n",
      "11-Oct-2017 19:44:53 DEBUG GEOparse - PLATFORM: GPL92\n",
      "11-Oct-2017 19:44:53 DEBUG GEOparse - PLATFORM: GPL93\n",
      "11-Oct-2017 19:44:53 DEBUG GEOparse - PLATFORM: GPL94\n",
      "11-Oct-2017 19:44:54 DEBUG GEOparse - PLATFORM: GPL95\n",
      "11-Oct-2017 19:44:54 DEBUG GEOparse - PLATFORM: GPL8300\n",
      "11-Oct-2017 19:44:54 DEBUG GEOparse - SAMPLE: GSM47224\n",
      "11-Oct-2017 19:44:54 DEBUG GEOparse - SAMPLE: GSM47225\n",
      "11-Oct-2017 19:44:54 DEBUG GEOparse - SAMPLE: GSM47226\n",
      "11-Oct-2017 19:44:54 DEBUG GEOparse - SAMPLE: GSM47227\n",
      "11-Oct-2017 19:44:54 DEBUG GEOparse - SAMPLE: GSM47228\n",
      "11-Oct-2017 19:44:55 DEBUG GEOparse - SAMPLE: GSM47229\n",
      "11-Oct-2017 19:44:55 DEBUG GEOparse - SAMPLE: GSM47230\n",
      "11-Oct-2017 19:44:55 DEBUG GEOparse - SAMPLE: GSM47231\n",
      "11-Oct-2017 19:44:55 DEBUG GEOparse - SAMPLE: GSM47232\n",
      "11-Oct-2017 19:44:55 DEBUG GEOparse - SAMPLE: GSM47233\n",
      "11-Oct-2017 19:44:55 DEBUG GEOparse - SAMPLE: GSM47234\n",
      "11-Oct-2017 19:44:55 DEBUG GEOparse - SAMPLE: GSM47235\n",
      "11-Oct-2017 19:44:55 DEBUG GEOparse - SAMPLE: GSM47242\n",
      "11-Oct-2017 19:44:55 DEBUG GEOparse - SAMPLE: GSM47256\n",
      "11-Oct-2017 19:44:55 DEBUG GEOparse - SAMPLE: GSM47269\n",
      "11-Oct-2017 19:44:55 DEBUG GEOparse - SAMPLE: GSM47286\n",
      "11-Oct-2017 19:44:55 DEBUG GEOparse - SAMPLE: GSM47299\n",
      "11-Oct-2017 19:44:55 DEBUG GEOparse - SAMPLE: GSM47300\n",
      "11-Oct-2017 19:44:55 DEBUG GEOparse - SAMPLE: GSM47301\n",
      "11-Oct-2017 19:44:55 DEBUG GEOparse - SAMPLE: GSM47303\n",
      "11-Oct-2017 19:44:55 DEBUG GEOparse - SAMPLE: GSM47317\n",
      "11-Oct-2017 19:44:55 DEBUG GEOparse - SAMPLE: GSM47319\n",
      "11-Oct-2017 19:44:55 DEBUG GEOparse - SAMPLE: GSM47321\n",
      "11-Oct-2017 19:44:55 DEBUG GEOparse - SAMPLE: GSM47322\n",
      "11-Oct-2017 19:44:55 DEBUG GEOparse - SAMPLE: GSM47323\n",
      "11-Oct-2017 19:44:55 DEBUG GEOparse - SAMPLE: GSM47324\n",
      "11-Oct-2017 19:44:55 DEBUG GEOparse - SAMPLE: GSM47325\n",
      "11-Oct-2017 19:44:55 DEBUG GEOparse - SAMPLE: GSM47326\n",
      "11-Oct-2017 19:44:55 DEBUG GEOparse - SAMPLE: GSM47327\n",
      "11-Oct-2017 19:44:55 DEBUG GEOparse - SAMPLE: GSM47328\n",
      "11-Oct-2017 19:44:55 DEBUG GEOparse - SAMPLE: GSM47329\n",
      "11-Oct-2017 19:44:55 DEBUG GEOparse - SAMPLE: GSM47330\n",
      "11-Oct-2017 19:44:55 DEBUG GEOparse - SAMPLE: GSM47331\n",
      "11-Oct-2017 19:44:56 DEBUG GEOparse - SAMPLE: GSM47332\n",
      "11-Oct-2017 19:44:56 DEBUG GEOparse - SAMPLE: GSM47333\n",
      "11-Oct-2017 19:44:56 DEBUG GEOparse - SAMPLE: GSM47334\n",
      "11-Oct-2017 19:44:56 DEBUG GEOparse - SAMPLE: GSM47335\n",
      "11-Oct-2017 19:44:56 DEBUG GEOparse - SAMPLE: GSM47336\n",
      "11-Oct-2017 19:44:56 DEBUG GEOparse - SAMPLE: GSM47337\n",
      "11-Oct-2017 19:44:56 DEBUG GEOparse - SAMPLE: GSM47347\n",
      "11-Oct-2017 19:44:56 DEBUG GEOparse - SAMPLE: GSM47348\n",
      "11-Oct-2017 19:44:56 DEBUG GEOparse - SAMPLE: GSM47349\n",
      "11-Oct-2017 19:44:56 DEBUG GEOparse - SAMPLE: GSM47350\n",
      "11-Oct-2017 19:44:56 DEBUG GEOparse - SAMPLE: GSM47351\n",
      "11-Oct-2017 19:44:56 DEBUG GEOparse - SAMPLE: GSM47352\n",
      "11-Oct-2017 19:44:56 DEBUG GEOparse - SAMPLE: GSM47353\n",
      "11-Oct-2017 19:44:56 DEBUG GEOparse - SAMPLE: GSM47354\n",
      "11-Oct-2017 19:44:56 DEBUG GEOparse - SAMPLE: GSM47355\n",
      "11-Oct-2017 19:44:56 DEBUG GEOparse - SAMPLE: GSM47356\n",
      "11-Oct-2017 19:44:56 DEBUG GEOparse - SAMPLE: GSM47357\n",
      "11-Oct-2017 19:44:56 DEBUG GEOparse - SAMPLE: GSM47358\n",
      "11-Oct-2017 19:44:56 DEBUG GEOparse - SAMPLE: GSM47359\n",
      "11-Oct-2017 19:44:56 DEBUG GEOparse - SAMPLE: GSM47360\n",
      "11-Oct-2017 19:44:56 DEBUG GEOparse - SAMPLE: GSM47361\n",
      "11-Oct-2017 19:44:56 DEBUG GEOparse - SAMPLE: GSM47362\n",
      "11-Oct-2017 19:44:56 DEBUG GEOparse - SAMPLE: GSM47363\n",
      "11-Oct-2017 19:44:56 DEBUG GEOparse - SAMPLE: GSM47364\n",
      "11-Oct-2017 19:44:56 DEBUG GEOparse - SAMPLE: GSM47365\n",
      "11-Oct-2017 19:44:56 DEBUG GEOparse - SAMPLE: GSM47366\n",
      "11-Oct-2017 19:44:57 DEBUG GEOparse - SAMPLE: GSM47367\n",
      "11-Oct-2017 19:44:57 DEBUG GEOparse - SAMPLE: GSM47368\n",
      "11-Oct-2017 19:44:57 DEBUG GEOparse - SAMPLE: GSM47369\n",
      "11-Oct-2017 19:44:57 DEBUG GEOparse - SAMPLE: GSM47370\n",
      "11-Oct-2017 19:44:57 DEBUG GEOparse - SAMPLE: GSM47371\n",
      "11-Oct-2017 19:44:57 DEBUG GEOparse - SAMPLE: GSM47372\n",
      "11-Oct-2017 19:44:57 DEBUG GEOparse - SAMPLE: GSM47373\n",
      "11-Oct-2017 19:44:57 DEBUG GEOparse - SAMPLE: GSM47374\n",
      "11-Oct-2017 19:44:57 DEBUG GEOparse - SAMPLE: GSM47375\n",
      "11-Oct-2017 19:44:57 DEBUG GEOparse - SAMPLE: GSM47376\n",
      "11-Oct-2017 19:44:57 DEBUG GEOparse - SAMPLE: GSM47377\n",
      "11-Oct-2017 19:44:57 DEBUG GEOparse - SAMPLE: GSM47378\n",
      "11-Oct-2017 19:44:57 DEBUG GEOparse - SAMPLE: GSM47379\n",
      "11-Oct-2017 19:44:57 DEBUG GEOparse - SAMPLE: GSM47380\n",
      "11-Oct-2017 19:44:57 DEBUG GEOparse - SAMPLE: GSM47381\n",
      "11-Oct-2017 19:44:57 DEBUG GEOparse - SAMPLE: GSM47382\n",
      "11-Oct-2017 19:44:57 DEBUG GEOparse - SAMPLE: GSM47383\n",
      "11-Oct-2017 19:44:57 DEBUG GEOparse - SAMPLE: GSM47384\n",
      "11-Oct-2017 19:44:57 DEBUG GEOparse - SAMPLE: GSM47385\n",
      "11-Oct-2017 19:44:57 DEBUG GEOparse - SAMPLE: GSM47386\n",
      "11-Oct-2017 19:44:57 DEBUG GEOparse - SAMPLE: GSM47387\n",
      "11-Oct-2017 19:44:57 DEBUG GEOparse - SAMPLE: GSM47388\n",
      "11-Oct-2017 19:44:57 DEBUG GEOparse - SAMPLE: GSM47389\n",
      "11-Oct-2017 19:44:57 DEBUG GEOparse - SAMPLE: GSM47390\n",
      "11-Oct-2017 19:44:57 DEBUG GEOparse - SAMPLE: GSM47391\n",
      "11-Oct-2017 19:44:57 DEBUG GEOparse - SAMPLE: GSM47392\n",
      "11-Oct-2017 19:44:57 DEBUG GEOparse - SAMPLE: GSM47393\n",
      "11-Oct-2017 19:44:57 DEBUG GEOparse - SAMPLE: GSM47394\n",
      "11-Oct-2017 19:44:58 DEBUG GEOparse - SAMPLE: GSM47395\n",
      "11-Oct-2017 19:44:58 DEBUG GEOparse - SAMPLE: GSM47396\n",
      "11-Oct-2017 19:44:58 DEBUG GEOparse - SAMPLE: GSM47397\n",
      "11-Oct-2017 19:44:58 DEBUG GEOparse - SAMPLE: GSM47398\n",
      "11-Oct-2017 19:44:58 DEBUG GEOparse - SAMPLE: GSM47399\n",
      "11-Oct-2017 19:44:58 DEBUG GEOparse - SAMPLE: GSM47400\n",
      "11-Oct-2017 19:44:58 DEBUG GEOparse - SAMPLE: GSM47401\n",
      "11-Oct-2017 19:44:58 DEBUG GEOparse - SAMPLE: GSM47402\n",
      "11-Oct-2017 19:44:58 DEBUG GEOparse - SAMPLE: GSM47403\n",
      "11-Oct-2017 19:44:58 DEBUG GEOparse - SAMPLE: GSM47404\n",
      "11-Oct-2017 19:44:58 DEBUG GEOparse - SAMPLE: GSM47405\n",
      "11-Oct-2017 19:44:58 DEBUG GEOparse - SAMPLE: GSM47406\n",
      "11-Oct-2017 19:44:58 DEBUG GEOparse - SAMPLE: GSM47407\n",
      "11-Oct-2017 19:44:58 DEBUG GEOparse - SAMPLE: GSM47408\n",
      "11-Oct-2017 19:44:58 DEBUG GEOparse - SAMPLE: GSM47409\n",
      "11-Oct-2017 19:44:58 DEBUG GEOparse - SAMPLE: GSM47410\n",
      "11-Oct-2017 19:44:58 DEBUG GEOparse - SAMPLE: GSM47411\n",
      "11-Oct-2017 19:44:58 DEBUG GEOparse - SAMPLE: GSM47412\n",
      "11-Oct-2017 19:44:58 DEBUG GEOparse - SAMPLE: GSM47413\n",
      "11-Oct-2017 19:44:58 DEBUG GEOparse - SAMPLE: GSM47414\n",
      "11-Oct-2017 19:44:58 DEBUG GEOparse - SAMPLE: GSM47415\n",
      "11-Oct-2017 19:44:58 DEBUG GEOparse - SAMPLE: GSM47416\n",
      "11-Oct-2017 19:44:58 DEBUG GEOparse - SAMPLE: GSM47417\n",
      "11-Oct-2017 19:44:58 DEBUG GEOparse - SAMPLE: GSM47418\n",
      "11-Oct-2017 19:44:58 DEBUG GEOparse - SAMPLE: GSM47419\n",
      "11-Oct-2017 19:44:58 DEBUG GEOparse - SAMPLE: GSM47420\n",
      "11-Oct-2017 19:44:58 DEBUG GEOparse - SAMPLE: GSM47421\n",
      "11-Oct-2017 19:44:59 DEBUG GEOparse - SAMPLE: GSM47422\n",
      "11-Oct-2017 19:44:59 DEBUG GEOparse - SAMPLE: GSM47423\n",
      "11-Oct-2017 19:44:59 DEBUG GEOparse - SAMPLE: GSM47424\n",
      "11-Oct-2017 19:44:59 DEBUG GEOparse - SAMPLE: GSM47561\n",
      "11-Oct-2017 19:44:59 DEBUG GEOparse - SAMPLE: GSM47562\n",
      "11-Oct-2017 19:44:59 DEBUG GEOparse - SAMPLE: GSM47563\n",
      "11-Oct-2017 19:44:59 DEBUG GEOparse - SAMPLE: GSM47564\n",
      "11-Oct-2017 19:44:59 DEBUG GEOparse - SAMPLE: GSM47565\n",
      "11-Oct-2017 19:44:59 DEBUG GEOparse - SAMPLE: GSM47566\n",
      "11-Oct-2017 19:44:59 DEBUG GEOparse - SAMPLE: GSM47567\n",
      "11-Oct-2017 19:44:59 DEBUG GEOparse - SAMPLE: GSM47568\n",
      "11-Oct-2017 19:44:59 DEBUG GEOparse - SAMPLE: GSM47569\n",
      "11-Oct-2017 19:44:59 DEBUG GEOparse - SAMPLE: GSM47570\n",
      "11-Oct-2017 19:44:59 DEBUG GEOparse - SAMPLE: GSM47571\n",
      "11-Oct-2017 19:44:59 DEBUG GEOparse - SAMPLE: GSM47572\n",
      "11-Oct-2017 19:44:59 DEBUG GEOparse - SAMPLE: GSM47573\n",
      "11-Oct-2017 19:44:59 DEBUG GEOparse - SAMPLE: GSM47574\n",
      "11-Oct-2017 19:44:59 DEBUG GEOparse - SAMPLE: GSM47575\n",
      "11-Oct-2017 19:44:59 DEBUG GEOparse - SAMPLE: GSM47576\n",
      "11-Oct-2017 19:44:59 DEBUG GEOparse - SAMPLE: GSM47577\n",
      "11-Oct-2017 19:44:59 DEBUG GEOparse - SAMPLE: GSM47578\n",
      "11-Oct-2017 19:44:59 DEBUG GEOparse - SAMPLE: GSM47579\n",
      "11-Oct-2017 19:44:59 DEBUG GEOparse - SAMPLE: GSM47580\n",
      "11-Oct-2017 19:44:59 DEBUG GEOparse - SAMPLE: GSM47581\n",
      "11-Oct-2017 19:44:59 DEBUG GEOparse - SAMPLE: GSM47582\n",
      "11-Oct-2017 19:44:59 DEBUG GEOparse - SAMPLE: GSM47583\n",
      "11-Oct-2017 19:45:00 DEBUG GEOparse - SAMPLE: GSM47584\n",
      "11-Oct-2017 19:45:00 DEBUG GEOparse - SAMPLE: GSM47585\n",
      "11-Oct-2017 19:45:00 DEBUG GEOparse - SAMPLE: GSM47586\n",
      "11-Oct-2017 19:45:00 DEBUG GEOparse - SAMPLE: GSM47587\n",
      "11-Oct-2017 19:45:00 DEBUG GEOparse - SAMPLE: GSM47588\n",
      "11-Oct-2017 19:45:00 DEBUG GEOparse - SAMPLE: GSM47589\n",
      "11-Oct-2017 19:45:00 DEBUG GEOparse - SAMPLE: GSM47590\n",
      "11-Oct-2017 19:45:00 DEBUG GEOparse - SAMPLE: GSM47591\n",
      "11-Oct-2017 19:45:00 DEBUG GEOparse - SAMPLE: GSM47592\n",
      "11-Oct-2017 19:45:00 DEBUG GEOparse - SAMPLE: GSM47593\n",
      "11-Oct-2017 19:45:00 DEBUG GEOparse - SAMPLE: GSM47594\n",
      "11-Oct-2017 19:45:00 DEBUG GEOparse - SAMPLE: GSM47595\n",
      "11-Oct-2017 19:45:00 DEBUG GEOparse - SAMPLE: GSM47596\n",
      "11-Oct-2017 19:45:00 DEBUG GEOparse - SAMPLE: GSM47597\n",
      "11-Oct-2017 19:45:00 DEBUG GEOparse - SAMPLE: GSM47598\n",
      "11-Oct-2017 19:45:00 DEBUG GEOparse - SAMPLE: GSM47599\n",
      "11-Oct-2017 19:45:00 DEBUG GEOparse - SAMPLE: GSM47823\n",
      "11-Oct-2017 19:45:00 DEBUG GEOparse - SAMPLE: GSM47824\n",
      "11-Oct-2017 19:45:00 DEBUG GEOparse - SAMPLE: GSM47825\n",
      "11-Oct-2017 19:45:00 DEBUG GEOparse - SAMPLE: GSM47826\n",
      "11-Oct-2017 19:45:00 DEBUG GEOparse - SAMPLE: GSM47827\n",
      "11-Oct-2017 19:45:00 DEBUG GEOparse - SAMPLE: GSM47828\n",
      "11-Oct-2017 19:45:00 DEBUG GEOparse - SAMPLE: GSM47829\n",
      "11-Oct-2017 19:45:00 DEBUG GEOparse - SAMPLE: GSM47830\n",
      "11-Oct-2017 19:45:00 DEBUG GEOparse - SAMPLE: GSM47831\n",
      "11-Oct-2017 19:45:00 DEBUG GEOparse - SAMPLE: GSM47832\n",
      "11-Oct-2017 19:45:00 DEBUG GEOparse - SAMPLE: GSM47833\n",
      "11-Oct-2017 19:45:00 DEBUG GEOparse - SAMPLE: GSM47834\n",
      "11-Oct-2017 19:45:00 DEBUG GEOparse - SAMPLE: GSM47835\n",
      "11-Oct-2017 19:45:01 DEBUG GEOparse - SAMPLE: GSM47836\n",
      "11-Oct-2017 19:45:01 DEBUG GEOparse - SAMPLE: GSM47837\n",
      "11-Oct-2017 19:45:01 DEBUG GEOparse - SAMPLE: GSM47838\n",
      "11-Oct-2017 19:45:01 DEBUG GEOparse - SAMPLE: GSM47839\n",
      "11-Oct-2017 19:45:01 DEBUG GEOparse - SAMPLE: GSM47840\n",
      "11-Oct-2017 19:45:01 DEBUG GEOparse - SAMPLE: GSM47841\n",
      "11-Oct-2017 19:45:01 DEBUG GEOparse - SAMPLE: GSM47842\n",
      "11-Oct-2017 19:45:01 DEBUG GEOparse - SAMPLE: GSM47843\n",
      "11-Oct-2017 19:45:01 DEBUG GEOparse - SAMPLE: GSM47844\n",
      "11-Oct-2017 19:45:01 DEBUG GEOparse - SAMPLE: GSM47845\n",
      "11-Oct-2017 19:45:01 DEBUG GEOparse - SAMPLE: GSM47846\n",
      "11-Oct-2017 19:45:01 DEBUG GEOparse - SAMPLE: GSM47847\n",
      "11-Oct-2017 19:45:01 DEBUG GEOparse - SAMPLE: GSM47848\n",
      "11-Oct-2017 19:45:01 DEBUG GEOparse - SAMPLE: GSM47849\n",
      "11-Oct-2017 19:45:01 DEBUG GEOparse - SAMPLE: GSM47850\n",
      "11-Oct-2017 19:45:01 DEBUG GEOparse - SAMPLE: GSM47851\n",
      "11-Oct-2017 19:45:01 DEBUG GEOparse - SAMPLE: GSM47852\n",
      "11-Oct-2017 19:45:01 DEBUG GEOparse - SAMPLE: GSM47853\n",
      "11-Oct-2017 19:45:01 DEBUG GEOparse - SAMPLE: GSM47854\n",
      "11-Oct-2017 19:45:01 DEBUG GEOparse - SAMPLE: GSM47855\n",
      "11-Oct-2017 19:45:01 DEBUG GEOparse - SAMPLE: GSM47856\n",
      "11-Oct-2017 19:45:01 DEBUG GEOparse - SAMPLE: GSM47857\n",
      "11-Oct-2017 19:45:01 DEBUG GEOparse - SAMPLE: GSM47858\n",
      "11-Oct-2017 19:45:01 DEBUG GEOparse - SAMPLE: GSM47859\n",
      "11-Oct-2017 19:45:01 DEBUG GEOparse - SAMPLE: GSM47860\n",
      "11-Oct-2017 19:45:01 DEBUG GEOparse - SAMPLE: GSM47861\n"
     ]
    }
   ],
   "source": [
    "gse1 = GEOparse.get_GEO(filepath=\"./data/GSE2508_family.soft.gz\")"
   ]
  },
  {
   "cell_type": "code",
   "execution_count": 4,
   "metadata": {
    "collapsed": false
   },
   "outputs": [
    {
     "name": "stdout",
     "output_type": "stream",
     "text": [
      "['GPL91', 'GPL92', 'GPL93', 'GPL94', 'GPL95', 'GPL8300']\n"
     ]
    }
   ],
   "source": [
    "plats_1 = list(gse1.gpls.keys())\n",
    "print(plats_1)"
   ]
  },
  {
   "cell_type": "markdown",
   "metadata": {},
   "source": [
    "# Phenotype Table (Clinical Data)"
   ]
  },
  {
   "cell_type": "code",
   "execution_count": 5,
   "metadata": {
    "collapsed": false
   },
   "outputs": [
    {
     "name": "stdout",
     "output_type": "stream",
     "text": [
      "    GPL8300  GPL91  GPL92  GPL93  GPL94  GPL95\n",
      "LF        5      5     10     10     10     10\n",
      "LM        5      5     10     10     10     10\n",
      "OF        5      5     10     10     10     10\n",
      "OM        5      4      9      9      9      9\n",
      "         platform_id           title\n",
      "GSM47224       GPL91  Lean F 01 subA\n",
      "GSM47225       GPL91  Lean F 02 subA\n",
      "GSM47226       GPL91  Lean F 03 subA\n",
      "GSM47227       GPL91  Lean F 04 subA\n",
      "GSM47228       GPL91  Lean F 05 subA 195\n"
     ]
    }
   ],
   "source": [
    "samples1 = gse1.phenotype_data[[\"platform_id\", \"title\"]]\n",
    "sample1 = samples1.groupby([\"platform_id\"]); sample1.groups\n",
    "d = {}                        \n",
    "for l in plats_1:\n",
    "    #print(\"\\nPlatform: \"+str(l)+\"\\n\", sample1.get_group(l))\n",
    "    #print(\"\\nPlatform: \"+str(l)+\"\\n\", sample1.get_group(l)['title'])\n",
    "    ls = \"\".join(list(sample1.get_group(l)['title']))\n",
    "    lf = re.findall(\"Lean F\", ls)\n",
    "    of = re.findall(\"Obese F\", ls)\n",
    "    lm = re.findall(\"Lean M\", ls)\n",
    "    om = re.findall(\"Obese M\", ls)\n",
    "    #print(\"LF: \", len(lf), \"\\nOF: \", len(of), \"\\nLM: \", len(lm), \"\\nOM: \", len(om))\n",
    "    d[l] = {\"LF\": len(lf), \"OF\": len(of), \"LM\": len(lm), \"OM\": len(om)}\n",
    "#print(d)\n",
    "df = pd.DataFrame(d); print(df)\n",
    "df.sum(axis=1)\n",
    "df.sum(axis=0)\n",
    "print(samples1.head(), len(samples1))"
   ]
  },
  {
   "cell_type": "code",
   "execution_count": 108,
   "metadata": {
    "collapsed": false
   },
   "outputs": [
    {
     "name": "stdout",
     "output_type": "stream",
     "text": [
      "(39, 2)\n",
      "          gender  cbmi\n",
      "samples               \n",
      "Lean F 01      F  lean\n",
      "Lean F 02      F  lean\n",
      "Lean F 03      F  lean\n",
      "Lean F 04      F  lean\n",
      "Lean F 05      F  lean\n"
     ]
    }
   ],
   "source": [
    "x = samples1['title'].apply(lambda x: x[:-len(x.split()[-1])].strip()).to_frame('samples')\n",
    "#print(x.head(), type(x))\n",
    "x['gender'] = x['samples'].map(lambda x: x.split(' ')[1])\n",
    "x['cbmi'] = x['samples'].map(lambda x: x.split(' ')[0].lower())\n",
    "#print(x)\n",
    "#x.index = x['samples']; x.drop('samples', inplace=True, axis=1)\n",
    "#print(x)\n",
    "x = x.drop_duplicates()\n",
    "x.index = x['samples']; x.drop('samples', inplace=True, axis=1)\n",
    "print(x.shape)\n",
    "print(x.head())\n"
   ]
  },
  {
   "cell_type": "code",
   "execution_count": 20,
   "metadata": {
    "collapsed": false
   },
   "outputs": [
    {
     "name": "stdout",
     "output_type": "stream",
     "text": [
      "  Lean F 01 Lean F 02 Lean F 03 Lean F 04 Lean F 05 Lean F 06 Lean F 07  \\\n",
      "0  GSM47224  GSM47225  GSM47226  GSM47227  GSM47228  GSM47229  GSM47230   \n",
      "1  GSM47347  GSM47348  GSM47349  GSM47350  GSM47351  GSM47352  GSM47353   \n",
      "2  GSM47386  GSM47387  GSM47388  GSM47389  GSM47390  GSM47391  GSM47392   \n",
      "3  GSM47561  GSM47562  GSM47563  GSM47564  GSM47565  GSM47566  GSM47567   \n",
      "4  GSM47823  GSM47824  GSM47825  GSM47826  GSM47827  GSM47828  GSM47829   \n",
      "\n",
      "  Lean F 08 Lean F 09 Lean F 10    ...     Obese F 10 Obese M 01 Obese M 02  \\\n",
      "0  GSM47231  GSM47232  GSM47233    ...       GSM47328   GSM47329   GSM47330   \n",
      "1  GSM47354  GSM47355  GSM47356    ...       GSM47376   GSM47377   GSM47378   \n",
      "2  GSM47393  GSM47394  GSM47395    ...       GSM47415   GSM47416   GSM47417   \n",
      "3  GSM47568  GSM47569  GSM47570    ...       GSM47590   GSM47591   GSM47592   \n",
      "4  GSM47830  GSM47831  GSM47832    ...       GSM47852   GSM47853   GSM47854   \n",
      "\n",
      "  Obese M 03 Obese M 04 Obese M 05 Obese M 06 Obese M 07 Obese M 08 Obese M 09  \n",
      "0   GSM47331   GSM47332   GSM47333   GSM47334   GSM47335   GSM47336   GSM47337  \n",
      "1   GSM47379   GSM47380   GSM47381   GSM47382   GSM47383   GSM47384   GSM47385  \n",
      "2   GSM47418   GSM47419   GSM47420   GSM47421   GSM47422   GSM47423   GSM47424  \n",
      "3   GSM47593   GSM47594   GSM47595   GSM47596   GSM47597   GSM47598   GSM47599  \n",
      "4   GSM47855   GSM47856   GSM47857   GSM47858   GSM47859   GSM47860   GSM47861  \n",
      "\n",
      "[5 rows x 39 columns] \n",
      "\n",
      " (5, 39)\n"
     ]
    }
   ],
   "source": [
    "grouped = x.groupby(['samples'])\n",
    "df = pd.DataFrame()\n",
    "l = pd.DataFrame.from_dict(grouped.groups)\n",
    "print(l.head(), '\\n\\n', l.shape)"
   ]
  },
  {
   "cell_type": "code",
   "execution_count": 109,
   "metadata": {
    "collapsed": false
   },
   "outputs": [],
   "source": [
    "x.to_pickle('./output/batch1_pheno.p')\n",
    "with open('./output/batch1_pheno.txt', 'w') as handle:\n",
    "    x.to_csv(handle, sep='\\t')"
   ]
  },
  {
   "cell_type": "markdown",
   "metadata": {},
   "source": [
    "# Preprocessing of Expression Data (Batch 1)"
   ]
  },
  {
   "cell_type": "markdown",
   "metadata": {},
   "source": [
    "Batch 1 is composed of five different datasets that use 5 different Affymetrix platforms, each one represents a technical replicate."
   ]
  },
  {
   "cell_type": "code",
   "execution_count": 9,
   "metadata": {
    "collapsed": false
   },
   "outputs": [
    {
     "data": {
      "text/plain": [
       "['GPL91', 'GPL92', 'GPL93', 'GPL94', 'GPL95', 'GPL8300']"
      ]
     },
     "execution_count": 9,
     "metadata": {},
     "output_type": "execute_result"
    }
   ],
   "source": [
    "plats_1 = list(gse1.gpls.keys())\n",
    "plats_1"
   ]
  },
  {
   "cell_type": "code",
   "execution_count": 10,
   "metadata": {
    "collapsed": false
   },
   "outputs": [],
   "source": [
    "d = {}\n",
    "samples1 = gse1.phenotype_data[[\"platform_id\", \"title\"]]\n",
    "sample1 = samples1.groupby([\"platform_id\"])\n",
    "\n",
    "for plat in plats_1:\n",
    "    d[plat] = gse1.pivot_samples('VALUE')[list(sample1.get_group(plat)[[\"title\"]].index)]\n",
    "\n",
    "#print(d['GPL95'].tail())"
   ]
  },
  {
   "cell_type": "code",
   "execution_count": 11,
   "metadata": {
    "collapsed": false
   },
   "outputs": [
    {
     "name": "stdout",
     "output_type": "stream",
     "text": [
      "12626\n",
      "12620\n",
      "12646\n",
      "12644\n",
      "12639\n",
      "12625\n"
     ]
    }
   ],
   "source": [
    "d_ann = {}\n",
    "for key in d.keys():\n",
    "    d_ann[key] = d[key].reset_index().merge(gse1.gpls[key].table[[\"ID\", \"ENTREZ_GENE_ID\"]],\n",
    "                                left_on='ID_REF', right_on=\"ID\").set_index('ID_REF')\n",
    "    d_ann[key].drop(['ID'], axis=1, inplace=True)\n",
    "    print(d_ann[key].shape[0])\n"
   ]
  },
  {
   "cell_type": "markdown",
   "metadata": {},
   "source": [
    "# 1) Probes containing missing values are excluded from the analysis."
   ]
  },
  {
   "cell_type": "code",
   "execution_count": 12,
   "metadata": {
    "collapsed": false
   },
   "outputs": [
    {
     "name": "stdout",
     "output_type": "stream",
     "text": [
      "GPL91:  12120\n",
      "GPL92:  8766\n",
      "GPL93:  7162\n",
      "GPL94:  5018\n",
      "GPL95:  7569\n",
      "GPL8300:  12119\n"
     ]
    }
   ],
   "source": [
    "for key in d_ann.keys():\n",
    "    d_ann[key].dropna(inplace=True)\n",
    "    print(str(key)+': ', d_ann[key].shape[0])\n",
    "\n",
    "#print(d_ann['GPL92'].head())"
   ]
  },
  {
   "cell_type": "markdown",
   "metadata": {},
   "source": [
    "# 5) Probes that cannot be mapped to a unique Entrez ID label are excluded from the analysis, as well as those that cannot be mapped to any Entrez ID label at all."
   ]
  },
  {
   "cell_type": "code",
   "execution_count": 13,
   "metadata": {
    "collapsed": false
   },
   "outputs": [
    {
     "name": "stdout",
     "output_type": "stream",
     "text": [
      "                   GSM47224     GSM47225     GSM47226  GSM47227     GSM47228  \\\n",
      "ENTREZ_GENE_ID                                                                 \n",
      "10               378.000000   113.800000   164.500000     163.5   165.000000   \n",
      "100             1340.950000  1232.950000  1464.750000    1048.8  1028.300000   \n",
      "1000             575.150000   480.150000   327.400000     790.4   576.600000   \n",
      "10000            196.100000   452.600000  1297.900000     873.1   642.800000   \n",
      "10001            396.066667   518.266667   478.866667     557.0   535.933333   \n",
      "\n",
      "                GSM47234  GSM47235    GSM47242     GSM47256     GSM47269  \\\n",
      "ENTREZ_GENE_ID                                                             \n",
      "10                 82.30     56.80  112.200000   270.800000    68.200000   \n",
      "100              1277.45   1432.35  551.300000   589.050000  1156.450000   \n",
      "1000              847.55    443.70  237.000000   501.850000   479.350000   \n",
      "10000             229.80    373.00  772.900000  1040.200000   898.600000   \n",
      "10001             516.10    447.80  544.433333   541.933333   720.733333   \n",
      "\n",
      "                   GSM47317  GSM47319  GSM47321     GSM47322  GSM47323  \\\n",
      "ENTREZ_GENE_ID                                                           \n",
      "10               295.200000     69.10     90.10   174.600000    224.70   \n",
      "100             1025.950000   1176.25   1404.15  1521.500000   1128.10   \n",
      "1000             324.150000    366.10    363.80   340.450000    478.05   \n",
      "10000            921.500000   1121.30    598.90   405.600000    725.80   \n",
      "10001            534.933333    297.50    458.20   569.133333    463.30   \n",
      "\n",
      "                GSM47329     GSM47330     GSM47331  GSM47332  \n",
      "ENTREZ_GENE_ID                                                \n",
      "10                 129.6   270.900000    44.800000     81.50  \n",
      "100                944.2  1199.900000  1648.450000   1389.15  \n",
      "1000               456.5   415.850000   425.800000    571.65  \n",
      "10000              327.1   481.500000   668.200000    534.20  \n",
      "10001              411.1   679.933333   422.533333    441.90  \n",
      "GPL91:  8591\n",
      "                GSM47347  GSM47348  GSM47349  GSM47350  GSM47351  GSM47352  \\\n",
      "ENTREZ_GENE_ID                                                               \n",
      "1                 2814.2    1831.0    1198.6    2184.4    2817.1    1358.9   \n",
      "100049716         2525.5    2570.2    3656.1    2536.6    3467.2    3791.8   \n",
      "10005              782.3     587.4     706.5     824.2    1099.1     595.6   \n",
      "10006              445.1    1281.2     871.6     268.2     338.8     241.9   \n",
      "10008             7239.3    5108.0    4493.2    4338.0    4511.6    5282.5   \n",
      "\n",
      "                GSM47353  GSM47354  GSM47355  GSM47356    ...     GSM47376  \\\n",
      "ENTREZ_GENE_ID                                            ...                \n",
      "1                 1474.6    2669.6     916.7     778.9    ...        856.2   \n",
      "100049716         3543.6    2848.4    2626.0    3654.2    ...       4562.1   \n",
      "10005              246.7     240.2     734.4     899.3    ...        490.2   \n",
      "10006              234.6     188.7     694.0     860.7    ...        553.7   \n",
      "10008             2379.8    6915.5    4115.8    7080.2    ...       5310.8   \n",
      "\n",
      "                GSM47377  GSM47378  GSM47379  GSM47380  GSM47381  GSM47382  \\\n",
      "ENTREZ_GENE_ID                                                               \n",
      "1                  911.4    1388.4    2801.7    3019.1    1784.5    3422.5   \n",
      "100049716         2572.3    3206.4    4094.2    3753.5    3597.7    4008.7   \n",
      "10005              495.1    1173.1     623.4     407.8     568.8      69.2   \n",
      "10006              440.0     407.0     995.5     504.6     830.1     972.0   \n",
      "10008             1937.6    6370.6    5020.3    3497.9    2589.6    3309.3   \n",
      "\n",
      "                GSM47383  GSM47384  GSM47385  \n",
      "ENTREZ_GENE_ID                                \n",
      "1                  877.4    2163.3     675.5  \n",
      "100049716         2854.4    2200.7    2710.7  \n",
      "10005              119.0     370.1     326.1  \n",
      "10006              659.4    1323.4     193.1  \n",
      "10008             3010.2    4108.9    4392.9  \n",
      "\n",
      "[5 rows x 39 columns]\n",
      "GPL92:  6547\n",
      "                GSM47386  GSM47387  GSM47388  GSM47389  GSM47390  GSM47391  \\\n",
      "ENTREZ_GENE_ID                                                               \n",
      "100009613          882.2     774.4     871.2    1934.4     830.6    1150.1   \n",
      "100049716         2720.5    3759.0    2679.5    3015.2    2364.6    2392.4   \n",
      "10008            45563.8   44845.9   23162.6   29873.1   24002.3   25717.0   \n",
      "10009             5399.7    4090.8    6215.4    3560.5    4676.4    2894.6   \n",
      "10010              527.7     306.4      54.7      92.8     211.1     371.3   \n",
      "\n",
      "                GSM47392  GSM47393  GSM47394  GSM47395    ...     GSM47415  \\\n",
      "ENTREZ_GENE_ID                                            ...                \n",
      "100009613         1144.8     888.0     744.8    1188.1    ...        957.6   \n",
      "100049716         3002.7    2642.1    2014.8    2644.1    ...       2758.8   \n",
      "10008            18293.9   41177.0   23837.4   41015.4    ...      26061.6   \n",
      "10009             3215.2    3613.8    4024.0    2987.4    ...       4270.9   \n",
      "10010               42.2     194.3     607.3      61.1    ...        126.7   \n",
      "\n",
      "                GSM47416  GSM47417  GSM47418  GSM47419  GSM47420  GSM47421  \\\n",
      "ENTREZ_GENE_ID                                                               \n",
      "100009613         1031.6     901.2     597.3    1528.2    1016.7    1166.2   \n",
      "100049716         3180.1    1910.7    2261.0    2745.5    2570.9    2896.2   \n",
      "10008            16450.4   42074.9   33845.7   21185.6   12614.8   11879.1   \n",
      "10009             4718.5    4862.9    4777.6    3650.0    2674.2    3016.8   \n",
      "10010              355.8     251.1      54.9     223.5      83.5     304.1   \n",
      "\n",
      "                GSM47422  GSM47423  GSM47424  \n",
      "ENTREZ_GENE_ID                                \n",
      "100009613          973.3    1557.1     705.3  \n",
      "100049716         2193.8    3653.3    2343.0  \n",
      "10008            20792.9   24041.2   22327.6  \n",
      "10009             3202.8    3238.0    3337.0  \n",
      "10010               94.7      87.5     213.5  \n",
      "\n",
      "[5 rows x 39 columns]\n",
      "GPL93:  5229\n",
      "                GSM47561  GSM47562  GSM47563  GSM47564  GSM47565  GSM47566  \\\n",
      "ENTREZ_GENE_ID                                                               \n",
      "10000             514.55    652.05    565.60    397.75    326.25    502.40   \n",
      "10001            7887.90   8206.50  12665.10   9239.10   7228.10   6594.80   \n",
      "10003             601.40    267.40    168.40   1144.10   1623.80    946.40   \n",
      "100101467         200.65    258.05    681.65    175.25    714.65    584.45   \n",
      "100124700         726.80   1484.50     75.20   1150.60    804.70    191.50   \n",
      "\n",
      "                GSM47567  GSM47568  GSM47569  GSM47570    ...     GSM47590  \\\n",
      "ENTREZ_GENE_ID                                            ...                \n",
      "10000             407.80    361.45     239.8    683.95    ...        272.6   \n",
      "10001            4681.90   5496.30    8568.0   8040.30    ...       5863.9   \n",
      "10003            1007.40    548.90    1508.6    557.10    ...        441.3   \n",
      "100101467         323.75    237.00     348.0    214.30    ...        339.2   \n",
      "100124700         444.10     98.10     877.9    428.10    ...        320.9   \n",
      "\n",
      "                GSM47591  GSM47592  GSM47593  GSM47594  GSM47595  GSM47596  \\\n",
      "ENTREZ_GENE_ID                                                               \n",
      "10000             520.05    703.20    378.20    611.05    527.25     539.8   \n",
      "10001           10184.20   7420.90   7594.90   7261.00   6662.40    8255.7   \n",
      "10003             726.60    396.70    669.80   2620.30   1026.70     549.6   \n",
      "100101467         345.10    292.15    747.65    418.80    213.35     265.1   \n",
      "100124700         546.70    622.60   1087.90     53.90    166.90     540.9   \n",
      "\n",
      "                GSM47597  GSM47598  GSM47599  \n",
      "ENTREZ_GENE_ID                                \n",
      "10000              424.2    300.35    455.85  \n",
      "10001             4403.2   6501.20   5088.70  \n",
      "10003              360.2   1239.30   1856.80  \n",
      "100101467          314.7    444.60    237.80  \n",
      "100124700          462.5    215.70    567.30  \n",
      "\n",
      "[5 rows x 39 columns]\n",
      "GPL94:  3905\n",
      "                GSM47823     GSM47824     GSM47825     GSM47826  GSM47827  \\\n",
      "ENTREZ_GENE_ID                                                              \n",
      "10000              821.5  1289.666667  1132.766667  1213.566667    1521.5   \n",
      "100009676          972.1   765.000000   931.500000   567.300000     428.1   \n",
      "10001              907.4   746.900000   308.000000   481.100000     352.5   \n",
      "10003              601.7   350.700000   992.600000  1495.100000    1187.6   \n",
      "10004             4765.8  6540.300000  6495.500000  6324.600000    5901.0   \n",
      "\n",
      "                GSM47828     GSM47829     GSM47830     GSM47831     GSM47832  \\\n",
      "ENTREZ_GENE_ID                                                                 \n",
      "10000             1140.2  1101.233333  1223.566667   900.966667   755.666667   \n",
      "100009676         3066.2   808.500000  2089.900000   752.500000   622.100000   \n",
      "10001              744.6   697.100000   205.300000   534.700000   804.600000   \n",
      "10003              972.2   744.900000   761.900000   252.300000  1207.100000   \n",
      "10004             5169.8  4312.700000  4194.800000  4806.700000  6314.800000   \n",
      "\n",
      "                  ...        GSM47852  GSM47853     GSM47854     GSM47855  \\\n",
      "ENTREZ_GENE_ID    ...                                                       \n",
      "10000             ...      813.766667    1149.1  1014.266667  2010.466667   \n",
      "100009676         ...     1320.400000    1423.2  1894.800000  1907.500000   \n",
      "10001             ...      394.800000     650.8   878.800000  1001.700000   \n",
      "10003             ...      507.200000     220.7    85.100000   855.100000   \n",
      "10004             ...     5840.100000    5865.8  3593.200000  3630.700000   \n",
      "\n",
      "                   GSM47856     GSM47857     GSM47858     GSM47859  GSM47860  \\\n",
      "ENTREZ_GENE_ID                                                                 \n",
      "10000           1003.633333   737.333333   798.566667  1293.166667    1059.4   \n",
      "100009676       1646.700000   985.200000   571.600000  3064.400000    1578.5   \n",
      "10001            908.500000   429.000000   148.100000   261.900000     571.9   \n",
      "10003            200.700000   269.000000   620.300000   734.100000      74.3   \n",
      "10004           5818.200000  5956.400000  6243.000000  7691.100000    6141.6   \n",
      "\n",
      "                GSM47861  \n",
      "ENTREZ_GENE_ID            \n",
      "10000              932.1  \n",
      "100009676         2390.9  \n",
      "10001              128.4  \n",
      "10003              561.7  \n",
      "10004             5837.7  \n",
      "\n",
      "[5 rows x 39 columns]\n",
      "GPL95:  5334\n",
      "                GSM47229    GSM47230  GSM47231     GSM47232  GSM47233  \\\n",
      "ENTREZ_GENE_ID                                                          \n",
      "10                 55.50   79.500000     83.00    96.400000      79.1   \n",
      "100              1184.30  700.950000    942.10  1233.900000     927.8   \n",
      "1000              308.75  353.350000    317.25   456.550000     580.2   \n",
      "10000             675.20  594.000000    936.00   740.900000     137.7   \n",
      "10001             440.50  513.933333    531.70   512.966667     431.9   \n",
      "\n",
      "                   GSM47286  GSM47299     GSM47300     GSM47301     GSM47303  \\\n",
      "ENTREZ_GENE_ID                                                                 \n",
      "10                47.700000     85.50    39.700000   125.100000   251.200000   \n",
      "100             1572.850000   1731.15  1108.450000  1475.750000  1978.300000   \n",
      "1000             519.550000    855.35   531.600000   728.800000   585.150000   \n",
      "10000            242.800000    142.70  1219.600000  1115.600000   202.400000   \n",
      "10001            448.166667    433.80   376.533333   515.133333   678.566667   \n",
      "\n",
      "                   GSM47324     GSM47325     GSM47326     GSM47327  \\\n",
      "ENTREZ_GENE_ID                                                       \n",
      "10                40.700000   132.700000    55.000000    55.000000   \n",
      "100             1790.250000  1288.100000  1509.400000  1232.350000   \n",
      "1000             600.250000   354.600000   252.600000   331.450000   \n",
      "10000           1025.800000   615.600000   849.200000   822.000000   \n",
      "10001            449.833333   443.633333   341.233333   341.933333   \n",
      "\n",
      "                   GSM47328     GSM47333  GSM47334     GSM47335     GSM47336  \\\n",
      "ENTREZ_GENE_ID                                                                 \n",
      "10                44.600000   149.100000     33.60    13.300000   117.400000   \n",
      "100             1369.750000  1317.050000    928.75  1415.200000  1333.450000   \n",
      "1000             300.450000   513.950000    787.05   414.800000   472.800000   \n",
      "10000            654.700000   858.400000    654.70   943.600000   837.300000   \n",
      "10001            290.466667   461.633333    248.40   408.866667   424.666667   \n",
      "\n",
      "                GSM47337  \n",
      "ENTREZ_GENE_ID            \n",
      "10                 49.50  \n",
      "100              1142.75  \n",
      "1000              401.65  \n",
      "10000            1385.00  \n",
      "10001             417.50  \n",
      "GPL8300:  8592\n"
     ]
    }
   ],
   "source": [
    "for key in d_ann.keys():\n",
    "    idx = d_ann[key].ENTREZ_GENE_ID.str.contains(\"///\")#.index\n",
    "    idx = idx[idx==True].index\n",
    "    d_ann[key] = d_ann[key].drop(list(idx), axis=0)\n",
    "    d_ann[key] = d_ann[key].groupby(\"ENTREZ_GENE_ID\").mean()\n",
    "    print(d_ann[key].head())\n",
    "    print(str(key)+': ', d_ann[key].shape[0])"
   ]
  },
  {
   "cell_type": "markdown",
   "metadata": {},
   "source": [
    "# 2) Probes are mapped to Entrez ID labels if they are available in the associated platform."
   ]
  },
  {
   "cell_type": "markdown",
   "metadata": {},
   "source": [
    "\n",
    "# 3) Values corresponding to raw expression counts or gene expression intensity are log2 transformed (if necessary)."
   ]
  },
  {
   "cell_type": "code",
   "execution_count": 14,
   "metadata": {
    "collapsed": false
   },
   "outputs": [
    {
     "name": "stdout",
     "output_type": "stream",
     "text": [
      "GPL91:\n",
      "                  GSM47224   GSM47225   GSM47226   GSM47227   GSM47228  \\\n",
      "ENTREZ_GENE_ID                                                          \n",
      "10               8.562242   6.830357   7.361944   7.353147   7.366322   \n",
      "100             10.389040  10.267899  10.516439  10.034524  10.006046   \n",
      "1000             9.167794   8.907341   8.354911   9.626439   9.171427   \n",
      "10000            7.615446   8.822093  10.341964   9.770003   9.328226   \n",
      "10001            8.629599   9.017551   8.903480   9.121534   9.065910   \n",
      "\n",
      "                 GSM47234   GSM47235  GSM47242   GSM47256   GSM47269  \\\n",
      "ENTREZ_GENE_ID                                                         \n",
      "10               6.362821   5.827819  6.809929   8.081084   6.091700   \n",
      "100             10.319051  10.484168  9.106694   9.202246  10.175487   \n",
      "1000             9.727155   8.793441  7.888743   8.971112   8.904936   \n",
      "10000            7.844235   8.543032  9.594138  10.022645   9.811535   \n",
      "10001            9.011507   8.806711  9.088612   9.081972   9.493322   \n",
      "\n",
      "                 GSM47317   GSM47319   GSM47321   GSM47322   GSM47323  \\\n",
      "ENTREZ_GENE_ID                                                          \n",
      "10               8.205549   6.110614   6.493455   7.447910   7.811856   \n",
      "100             10.002745  10.199979  10.455481  10.571279  10.139679   \n",
      "1000             8.340518   8.516094   8.507002   8.411299   8.901018   \n",
      "10000            9.847840  10.130957   9.226171   8.663914   9.503428   \n",
      "10001            9.063215   8.216746   8.839834   9.152623   8.855803   \n",
      "\n",
      "                GSM47329   GSM47330   GSM47331   GSM47332  \n",
      "ENTREZ_GENE_ID                                             \n",
      "10              7.017922   8.081617   5.485427   6.348728  \n",
      "100             9.882949  10.228698  10.686894  10.439987  \n",
      "1000            8.834471   8.699919   8.734032   9.158988  \n",
      "10000           8.353588   8.911392   9.384136   9.061236  \n",
      "10001           8.683346   9.409249   8.722921   8.787576  \n",
      "GPL92:\n",
      "                  GSM47347   GSM47348   GSM47349   GSM47350   GSM47351  \\\n",
      "ENTREZ_GENE_ID                                                          \n",
      "1               11.458509  10.838416  10.227135  11.093021  11.459995   \n",
      "100049716       11.302353  11.327665  11.836090  11.308680  11.759555   \n",
      "10005            9.611578   9.198199   9.464546   9.686851  10.102107   \n",
      "10006            8.797986  10.323280   9.767522   8.067165   8.404290   \n",
      "10008           12.821634  12.318543  12.133528  12.082814  12.139423   \n",
      "\n",
      "                 GSM47352   GSM47353   GSM47354   GSM47355   GSM47356  \\\n",
      "ENTREZ_GENE_ID                                                          \n",
      "1               10.408224  10.526108  11.382408   9.840306   9.605294   \n",
      "100049716       11.888667  11.791000  11.475936  11.358651  11.835340   \n",
      "10005            9.218200   7.946614   7.908092   9.520422   9.812659   \n",
      "10006            7.918267   7.874059   7.559951   9.438792   9.749367   \n",
      "10008           12.367005  11.216625  12.755618  12.006957  12.789574   \n",
      "\n",
      "                  ...       GSM47376   GSM47377   GSM47378   GSM47379  \\\n",
      "ENTREZ_GENE_ID    ...                                                   \n",
      "1                 ...       9.741804   9.831941  10.439208  11.452087   \n",
      "100049716         ...      12.155482  11.328843  11.646739  11.999366   \n",
      "10005             ...       8.937227   8.951576  10.196110   9.284014   \n",
      "10006             ...       9.112961   8.781360   8.668885   9.959278   \n",
      "10008             ...      12.374713  10.920055  12.637214  12.293558   \n",
      "\n",
      "                 GSM47380   GSM47381   GSM47382   GSM47383   GSM47384  \\\n",
      "ENTREZ_GENE_ID                                                          \n",
      "1               11.559903  10.801304  11.740835   9.777091  11.079018   \n",
      "100049716       11.874021  11.812859  11.968919  11.478972  11.103747   \n",
      "10005            8.671718   9.151778   6.112700   6.894818   8.531771   \n",
      "10006            8.978996   9.697141   9.924813   9.365010  10.370033   \n",
      "10008           11.772273  11.338514  11.692310  11.555644  12.004537   \n",
      "\n",
      "                 GSM47385  \n",
      "ENTREZ_GENE_ID             \n",
      "1                9.399812  \n",
      "100049716       11.404450  \n",
      "10005            8.349171  \n",
      "10006            7.593204  \n",
      "10008           12.100958  \n",
      "\n",
      "[5 rows x 39 columns]\n",
      "GPL93:\n",
      "                  GSM47386   GSM47387   GSM47388   GSM47389   GSM47390  \\\n",
      "ENTREZ_GENE_ID                                                          \n",
      "100009613        9.784962   9.596935   9.766860  10.917670   9.698010   \n",
      "100049716       11.409656  11.876133  11.387748  11.558038  11.207380   \n",
      "10008           15.475600  15.452688  14.499510  14.866559  14.550885   \n",
      "10009           12.398664  11.998167  12.601632  11.797864  12.191183   \n",
      "10010            9.043574   8.259272   5.773469   6.536053   7.721783   \n",
      "\n",
      "                 GSM47391   GSM47392   GSM47393   GSM47394   GSM47395  \\\n",
      "ENTREZ_GENE_ID                                                          \n",
      "100009613       10.167544  10.160880   9.794416   9.540709  10.214441   \n",
      "100049716       11.224243  11.552045  11.367469  10.976421  11.368561   \n",
      "10008           14.650435  14.159075  15.329551  14.540939  15.323878   \n",
      "10009           11.499148  11.650693  11.819301  11.974415  11.544675   \n",
      "10010            8.536442   5.399171   7.602142   9.246266   5.933100   \n",
      "\n",
      "                  ...       GSM47415   GSM47416   GSM47417   GSM47418  \\\n",
      "ENTREZ_GENE_ID    ...                                                   \n",
      "100009613         ...       9.903279  10.010668   9.815704   9.222312   \n",
      "100049716         ...      11.429825  11.634856  10.899886  11.142745   \n",
      "10008             ...      14.669638  14.005835  15.360672  15.046685   \n",
      "10009             ...      12.060324  12.204113  12.247601  12.222070   \n",
      "10010             ...       6.985273   8.474923   7.972118   5.778734   \n",
      "\n",
      "                 GSM47419   GSM47420   GSM47421   GSM47422   GSM47423  \\\n",
      "ENTREZ_GENE_ID                                                          \n",
      "100009613       10.577618   9.989678  10.187600   9.926741  10.604646   \n",
      "100049716       11.422853  11.328058  11.499946  11.099216  11.834985   \n",
      "10008           14.370796  13.622830  13.536138  14.343803  14.553221   \n",
      "10009           11.833681  11.384892  11.558803  11.645118  11.660887   \n",
      "10010            7.804131   6.383704   8.248402   6.565293   6.451211   \n",
      "\n",
      "                 GSM47424  \n",
      "ENTREZ_GENE_ID             \n",
      "100009613        9.462093  \n",
      "100049716       11.194141  \n",
      "10008           14.446541  \n",
      "10009           11.704336  \n",
      "10010            7.738092  \n",
      "\n",
      "[5 rows x 39 columns]\n",
      "GPL94:\n",
      "                  GSM47561   GSM47562   GSM47563   GSM47564   GSM47565  \\\n",
      "ENTREZ_GENE_ID                                                          \n",
      "10000            9.007167   9.348839   9.143638   8.635718   8.349834   \n",
      "10001           12.945426  13.002551  13.628571  13.173537  12.819401   \n",
      "10003            9.232181   8.062856   7.395748  10.159997  10.665158   \n",
      "100101467        7.648537   8.011507   9.412887   7.453271   9.481093   \n",
      "100124700        9.505415  10.535761   6.232661  10.168171   9.652307   \n",
      "\n",
      "                 GSM47566   GSM47567   GSM47568   GSM47569   GSM47570  \\\n",
      "ENTREZ_GENE_ID                                                          \n",
      "10000            8.972693   8.671718   8.497652   7.905688   9.417747   \n",
      "10001           12.687113  12.192878  12.424245  13.064743  12.973034   \n",
      "10003            9.886306   9.976421   9.100400  10.558995   9.121793   \n",
      "100101467        9.190936   8.338736   7.888743   8.442943   7.743488   \n",
      "100124700        7.581201   8.794741   6.616181   9.777913   8.741804   \n",
      "\n",
      "                  ...       GSM47590   GSM47591   GSM47592   GSM47593  \\\n",
      "ENTREZ_GENE_ID    ...                                                   \n",
      "10000             ...       8.090642   9.022507   9.457791   8.563006   \n",
      "10001             ...      12.517645  13.314045  12.857378  12.890815   \n",
      "10003             ...       8.785616   9.505018   8.631905   9.387587   \n",
      "100101467         ...       8.405992   8.430871   8.190565   9.546219   \n",
      "100124700         ...       8.325980   9.094606   9.282162  10.087330   \n",
      "\n",
      "                 GSM47594   GSM47595   GSM47596   GSM47597   GSM47598  \\\n",
      "ENTREZ_GENE_ID                                                          \n",
      "10000            9.255147   9.042343   9.076281   8.728601   8.230501   \n",
      "10001           12.825953  12.701826  13.011175  12.104337  12.666490   \n",
      "10003           11.355516  10.003799   9.102238   8.492654  10.275310   \n",
      "100101467        8.710118   7.737078   8.050393   8.297833   8.796364   \n",
      "100124700        5.752213   7.382840   9.079218   8.853310   7.752882   \n",
      "\n",
      "                 GSM47599  \n",
      "ENTREZ_GENE_ID             \n",
      "10000            8.832415  \n",
      "10001           12.313081  \n",
      "10003           10.858603  \n",
      "100101467        7.893605  \n",
      "100124700        9.147968  \n",
      "\n",
      "[5 rows x 39 columns]\n",
      "GPL95:\n",
      "                  GSM47823   GSM47824   GSM47825   GSM47826   GSM47827  \\\n",
      "ENTREZ_GENE_ID                                                          \n",
      "10000            9.682117  10.332783  10.145635  10.245038  10.571279   \n",
      "100009676        9.924961   9.579316   9.863412   9.147968   8.741804   \n",
      "10001            9.825595   9.544771   8.266787   8.910193   8.461479   \n",
      "10003            9.232901   8.454094   9.955069  10.546026  10.213833   \n",
      "10004           12.218503  12.675141  12.665225  12.626759  12.526744   \n",
      "\n",
      "                 GSM47828   GSM47829   GSM47830   GSM47831   GSM47832  \\\n",
      "ENTREZ_GENE_ID                                                          \n",
      "10000           10.155071  10.104904  10.256877   9.815330   9.561606   \n",
      "100009676       11.582236   9.659104  11.029218   9.555548   9.281003   \n",
      "10001            9.540322   9.445222   7.681590   9.062586   9.652128   \n",
      "10003            9.925109   9.540903   9.573458   7.978996  10.237329   \n",
      "10004           12.335893  12.074376  12.034386  12.230831  12.624521   \n",
      "\n",
      "                  ...       GSM47852   GSM47853   GSM47854   GSM47855  \\\n",
      "ENTREZ_GENE_ID    ...                                                   \n",
      "10000             ...       9.668471  10.166289   9.986221  10.973315   \n",
      "100009676         ...      10.366759  10.474923  10.887830  10.897467   \n",
      "10001             ...       8.624978   9.346070   9.779391   9.968235   \n",
      "10003             ...       8.986411   7.785943   6.411087   9.739949   \n",
      "10004             ...      12.511777  12.518112  11.811054  11.826032   \n",
      "\n",
      "                 GSM47856   GSM47857   GSM47858   GSM47859   GSM47860  \\\n",
      "ENTREZ_GENE_ID                                                          \n",
      "10000            9.971017   9.526173   9.641269  10.336693  10.049032   \n",
      "100009676       10.685362   9.944273   9.158862  11.581389  10.624339   \n",
      "10001            9.827343   8.744834   7.210428   8.032872   9.159619   \n",
      "10003            7.648897   8.071462   9.276822   9.519833   6.215290   \n",
      "10004           12.506357  12.540225  12.608024  12.908974  12.584399   \n",
      "\n",
      "                 GSM47861  \n",
      "ENTREZ_GENE_ID             \n",
      "10000            9.864341  \n",
      "100009676       11.223338  \n",
      "10001            7.004501  \n",
      "10003            9.133656  \n",
      "10004           12.511184  \n",
      "\n",
      "[5 rows x 39 columns]\n",
      "GPL8300:\n",
      "                  GSM47229  GSM47230  GSM47231   GSM47232  GSM47233   GSM47286  \\\n",
      "ENTREZ_GENE_ID                                                                  \n",
      "10               5.794416  6.312883  6.375039   6.590961  6.305606   5.575917   \n",
      "100             10.209819  9.453168  9.879736  10.269010  9.857670  10.619165   \n",
      "1000             8.270295  8.464954  8.309476   8.834629  9.180406   9.021119   \n",
      "10000            9.399171  9.214319  9.870365   9.533135  7.105385   7.923625   \n",
      "10001            8.782998  9.005437  9.054469   9.002721  8.754554   8.807892   \n",
      "\n",
      "                 GSM47299   GSM47300   GSM47301   GSM47303   GSM47324  \\\n",
      "ENTREZ_GENE_ID                                                          \n",
      "10               6.417853   5.311067   6.966938   7.972693   5.346957   \n",
      "100             10.757515  10.114328  10.527233  10.950046  10.805945   \n",
      "1000             9.740371   9.054197   9.509379   9.192663   9.229420   \n",
      "10000            7.156842  10.252192  10.123604   7.661065  10.002534   \n",
      "10001            8.760886   8.556634   9.008802   9.406347   8.813247   \n",
      "\n",
      "                 GSM47325   GSM47326   GSM47327   GSM47328   GSM47333  \\\n",
      "ENTREZ_GENE_ID                                                          \n",
      "10               7.052025   5.781360   5.781360   5.478972   7.220136   \n",
      "100             10.331029  10.559759  10.267196  10.419697  10.363094   \n",
      "1000             8.470049   7.980711   8.372647   8.230981   9.005484   \n",
      "10000            9.265849   9.729961   9.682995   9.354690   9.745506   \n",
      "10001            8.793224   8.414615   8.417571   8.182229   8.850604   \n",
      "\n",
      "                GSM47334   GSM47335   GSM47336   GSM47337  \n",
      "ENTREZ_GENE_ID                                             \n",
      "10              5.070389   3.733354   6.875289   5.629357  \n",
      "100             9.859146  10.466790  10.380948  10.158294  \n",
      "1000            9.620311   8.696272   8.885086   8.649795  \n",
      "10000           9.354690   9.882032   9.709601  10.435670  \n",
      "10001           7.956521   8.675487   8.730187   8.705632  \n"
     ]
    }
   ],
   "source": [
    "for key in d_ann.keys():\n",
    "    d_ann[key] = np.log2(d_ann[key])\n",
    "    print(str(key)+':\\n', d_ann[key].head())\n",
    "    "
   ]
  },
  {
   "cell_type": "code",
   "execution_count": 61,
   "metadata": {
    "collapsed": true
   },
   "outputs": [],
   "source": [
    "s = [d_ann[key] for key in d_ann.keys()]"
   ]
  },
  {
   "cell_type": "code",
   "execution_count": 38,
   "metadata": {
    "collapsed": false
   },
   "outputs": [
    {
     "name": "stdout",
     "output_type": "stream",
     "text": [
      "                 GSM47224   GSM47225   GSM47226   GSM47227   GSM47228  \\\n",
      "ENTREZ_GENE_ID                                                          \n",
      "1                     NaN        NaN        NaN        NaN        NaN   \n",
      "10               8.562242   6.830357   7.361944   7.353147   7.366322   \n",
      "100             10.389040  10.267899  10.516439  10.034524  10.006046   \n",
      "1000             9.167794   8.907341   8.354911   9.626439   9.171427   \n",
      "10000            7.615446   8.822093  10.341964   9.770003   9.328226   \n",
      "\n",
      "                 GSM47234   GSM47235  GSM47242   GSM47256   GSM47269  \\\n",
      "ENTREZ_GENE_ID                                                         \n",
      "1                     NaN        NaN       NaN        NaN        NaN   \n",
      "10               6.362821   5.827819  6.809929   8.081084   6.091700   \n",
      "100             10.319051  10.484168  9.106694   9.202246  10.175487   \n",
      "1000             9.727155   8.793441  7.888743   8.971112   8.904936   \n",
      "10000            7.844235   8.543032  9.594138  10.022645   9.811535   \n",
      "\n",
      "                  ...       GSM47324   GSM47325   GSM47326   GSM47327  \\\n",
      "ENTREZ_GENE_ID    ...                                                   \n",
      "1                 ...            NaN        NaN        NaN        NaN   \n",
      "10                ...       5.346957   7.052025   5.781360   5.781360   \n",
      "100               ...      10.805945  10.331029  10.559759  10.267196   \n",
      "1000              ...       9.229420   8.470049   7.980711   8.372647   \n",
      "10000             ...      10.002534   9.265849   9.729961   9.682995   \n",
      "\n",
      "                 GSM47328   GSM47333  GSM47334   GSM47335   GSM47336  \\\n",
      "ENTREZ_GENE_ID                                                         \n",
      "1                     NaN        NaN       NaN        NaN        NaN   \n",
      "10               5.478972   7.220136  5.070389   3.733354   6.875289   \n",
      "100             10.419697  10.363094  9.859146  10.466790  10.380948   \n",
      "1000             8.230981   9.005484  9.620311   8.696272   8.885086   \n",
      "10000            9.354690   9.745506  9.354690   9.882032   9.709601   \n",
      "\n",
      "                 GSM47337  \n",
      "ENTREZ_GENE_ID             \n",
      "1                     NaN  \n",
      "10               5.629357  \n",
      "100             10.158294  \n",
      "1000             8.649795  \n",
      "10000           10.435670  \n",
      "\n",
      "[5 rows x 195 columns]\n",
      "(18281, 195)\n"
     ]
    }
   ],
   "source": [
    "df_final = reduce(lambda left,right: pd.merge(left,right, left_index=True, right_index=True, how='outer'), s)\n",
    "print(df_final.head())\n",
    "print(df_final.shape)"
   ]
  },
  {
   "cell_type": "markdown",
   "metadata": {},
   "source": [
    "# Aggregate data about the 39 samples (tot=195)"
   ]
  },
  {
   "cell_type": "code",
   "execution_count": 22,
   "metadata": {
    "collapsed": false
   },
   "outputs": [
    {
     "name": "stdout",
     "output_type": "stream",
     "text": [
      "  Lean F 01 Lean F 02 Lean F 03 Lean F 04 Lean F 05 Lean F 06 Lean F 07  \\\n",
      "0  GSM47224  GSM47225  GSM47226  GSM47227  GSM47228  GSM47229  GSM47230   \n",
      "1  GSM47347  GSM47348  GSM47349  GSM47350  GSM47351  GSM47352  GSM47353   \n",
      "2  GSM47386  GSM47387  GSM47388  GSM47389  GSM47390  GSM47391  GSM47392   \n",
      "3  GSM47561  GSM47562  GSM47563  GSM47564  GSM47565  GSM47566  GSM47567   \n",
      "4  GSM47823  GSM47824  GSM47825  GSM47826  GSM47827  GSM47828  GSM47829   \n",
      "\n",
      "  Lean F 08 Lean F 09 Lean F 10    ...     Obese F 10 Obese M 01 Obese M 02  \\\n",
      "0  GSM47231  GSM47232  GSM47233    ...       GSM47328   GSM47329   GSM47330   \n",
      "1  GSM47354  GSM47355  GSM47356    ...       GSM47376   GSM47377   GSM47378   \n",
      "2  GSM47393  GSM47394  GSM47395    ...       GSM47415   GSM47416   GSM47417   \n",
      "3  GSM47568  GSM47569  GSM47570    ...       GSM47590   GSM47591   GSM47592   \n",
      "4  GSM47830  GSM47831  GSM47832    ...       GSM47852   GSM47853   GSM47854   \n",
      "\n",
      "  Obese M 03 Obese M 04 Obese M 05 Obese M 06 Obese M 07 Obese M 08 Obese M 09  \n",
      "0   GSM47331   GSM47332   GSM47333   GSM47334   GSM47335   GSM47336   GSM47337  \n",
      "1   GSM47379   GSM47380   GSM47381   GSM47382   GSM47383   GSM47384   GSM47385  \n",
      "2   GSM47418   GSM47419   GSM47420   GSM47421   GSM47422   GSM47423   GSM47424  \n",
      "3   GSM47593   GSM47594   GSM47595   GSM47596   GSM47597   GSM47598   GSM47599  \n",
      "4   GSM47855   GSM47856   GSM47857   GSM47858   GSM47859   GSM47860   GSM47861  \n",
      "\n",
      "[5 rows x 39 columns]\n"
     ]
    }
   ],
   "source": [
    "print(l.head())"
   ]
  },
  {
   "cell_type": "code",
   "execution_count": 66,
   "metadata": {
    "collapsed": false
   },
   "outputs": [
    {
     "name": "stdout",
     "output_type": "stream",
     "text": [
      "(18281, 39)\n",
      "                Lean F 01  Lean F 02  Lean F 03  Lean F 04  Lean F 05  \\\n",
      "ENTREZ_GENE_ID                                                          \n",
      "1               11.458509  10.838416  10.227135  11.093021  11.459995   \n",
      "10               8.562242   6.830357   7.361944   7.353147   7.366322   \n",
      "100             10.389040  10.267899  10.516439  10.034524  10.006046   \n",
      "1000             9.167794   8.907341   8.354911   9.626439   9.171427   \n",
      "10000            8.768243   9.501238   9.877079   9.550253   9.416446   \n",
      "\n",
      "                Lean F 06  Lean F 07  Lean F 08  Lean F 09  Lean F 10  \\\n",
      "ENTREZ_GENE_ID                                                          \n",
      "1               10.408224  10.526108  11.382408   9.840306   9.605294   \n",
      "10               5.794416   6.312883   6.375039   6.590961   6.305606   \n",
      "100             10.209819   9.453168   9.879736  10.269010   9.857670   \n",
      "1000             8.270295   8.464954   8.309476   8.834629   9.180406   \n",
      "10000            9.508978   9.330314   9.541631   9.084718   8.694913   \n",
      "\n",
      "                   ...      Obese F 10  Obese M 01  Obese M 02  Obese M 03  \\\n",
      "ENTREZ_GENE_ID     ...                                                       \n",
      "1                  ...        9.741804    9.831941   10.439208   11.452087   \n",
      "10                 ...        5.478972    7.017922    8.081617    5.485427   \n",
      "100                ...       10.419697    9.882949   10.228698   10.686894   \n",
      "1000               ...        8.230981    8.834471    8.699919    8.734032   \n",
      "10000              ...        9.037934    9.180794    9.451802    9.640152   \n",
      "\n",
      "                Obese M 04  Obese M 05  Obese M 06  Obese M 07  Obese M 08  \\\n",
      "ENTREZ_GENE_ID                                                               \n",
      "1                11.559903   10.801304   11.740835    9.777091   11.079018   \n",
      "10                6.348728    7.220136    5.070389    3.733354    6.875289   \n",
      "100              10.439987   10.363094    9.859146   10.466790   10.380948   \n",
      "1000              9.158988    9.005484    9.620311    8.696272    8.885086   \n",
      "10000             9.429133    9.438008    9.357413    9.649108    9.329711   \n",
      "\n",
      "                Obese M 09  \n",
      "ENTREZ_GENE_ID              \n",
      "1                 9.399812  \n",
      "10                5.629357  \n",
      "100              10.158294  \n",
      "1000              8.649795  \n",
      "10000             9.710809  \n",
      "\n",
      "[5 rows x 39 columns]\n"
     ]
    }
   ],
   "source": [
    "df_c = {}\n",
    "\n",
    "for column in l.columns:\n",
    "    df_c[column] = df_final[list(l[column])]\n",
    "\n",
    "for key in df_c.keys():\n",
    "    df_c[key] = df_c[key].mean(axis=1)\n",
    "    df_c[key] = df_c[key].to_frame()\n",
    "    df_c[key] = df_c[key].rename(columns={0: key})\n",
    "#print(df_c)\n",
    "\n",
    "p = [df_c[key] for key in df_c.keys()]\n",
    "\n",
    "#print(p)\n",
    "df_f = reduce(lambda left,right: pd.merge(left,right, left_index=True, right_index=True, how='outer'), p)\n",
    "print(df_f.shape)\n",
    "print(df_f.head())"
   ]
  },
  {
   "cell_type": "markdown",
   "metadata": {},
   "source": [
    "# 4) Probes mapping to the same Entrez ID label are averaged out."
   ]
  },
  {
   "cell_type": "markdown",
   "metadata": {},
   "source": [
    "# Write the eprs4 dataframe in a text file"
   ]
  },
  {
   "cell_type": "code",
   "execution_count": 111,
   "metadata": {
    "collapsed": true
   },
   "outputs": [],
   "source": [
    "hn = df_f.T\n",
    "hn.to_pickle('./output/batch1_exprs.p')\n",
    "with open('./output/batch1_geno.txt', 'w') as handle:\n",
    "    hn.to_csv(handle, sep='\\t')"
   ]
  },
  {
   "cell_type": "markdown",
   "metadata": {},
   "source": [
    "# Comparison with the data provided by the authors"
   ]
  },
  {
   "cell_type": "code",
   "execution_count": 19,
   "metadata": {
    "collapsed": false
   },
   "outputs": [
    {
     "name": "stdout",
     "output_type": "stream",
     "text": [
      "(39, 18491) (195, 18281)\n",
      "18225\n"
     ]
    }
   ],
   "source": [
    "or_data = pd.read_pickle('./data/GSE2508_geno.p')\n",
    "print(or_data.shape, hn.shape)\n",
    "print(len(set.intersection(set(or_data.columns), set(hn.columns))))"
   ]
  },
  {
   "cell_type": "markdown",
   "metadata": {},
   "source": [
    "# 6) We apply a simple L 1 normalization in linear space, imposing that the sum of expression of all genes is constant among samples."
   ]
  },
  {
   "cell_type": "code",
   "execution_count": null,
   "metadata": {
    "collapsed": true
   },
   "outputs": [],
   "source": []
  }
 ],
 "metadata": {
  "kernelspec": {
   "display_name": "Python 3",
   "language": "python",
   "name": "python3"
  },
  "language_info": {
   "codemirror_mode": {
    "name": "ipython",
    "version": 3
   },
   "file_extension": ".py",
   "mimetype": "text/x-python",
   "name": "python",
   "nbconvert_exporter": "python",
   "pygments_lexer": "ipython3",
   "version": "3.6.0"
  }
 },
 "nbformat": 4,
 "nbformat_minor": 2
}
