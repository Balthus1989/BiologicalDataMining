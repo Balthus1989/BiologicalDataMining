{
 "cells": [
  {
   "cell_type": "markdown",
   "metadata": {},
   "source": [
    "# Batch 2 Preprocessing\n",
    "Group 4: Damiano Chini, Riccardo Gilmozzi, Gianmarco Piccinno & Alessandro Rizzuto"
   ]
  },
  {
   "cell_type": "markdown",
   "metadata": {},
   "source": [
    "This code operates the preprocessing steps, namely (from the paper):\n",
    "\n",
    "1) Probes containing missing values are excluded from the analysis.\n",
    "\n",
    "2) Probes are mapped to Entrez ID labels if they are available in the associated platform.\n",
    "\n",
    "3) Values corresponding to raw expression counts or gene expression intensity are log2 transformed (if necessary).\n",
    "\n",
    "4) Probes mapping to the same Entrez ID label are averaged out.\n",
    "\n",
    "5) Probes that cannot be mapped to a unique Entrez ID label are excluded from the analysis, as well as those that cannot be mapped to any Entrez ID label at all.\n",
    "\n",
    "6) We apply a simple L 1 normalization in linear space, imposing that the sum of expression of all genes is constant among samples.\n",
    "\n",
    "After these steps, each data set or batch is represented by a single expression matrix X. Each entry X i j represents the log 2 of the expression intensity of gene i in sample j.\n"
   ]
  },
  {
   "cell_type": "code",
   "execution_count": 58,
   "metadata": {
    "collapsed": true
   },
   "outputs": [],
   "source": [
    "import GEOparse\n",
    "import pandas as pd"
   ]
  },
  {
   "cell_type": "code",
   "execution_count": 59,
   "metadata": {},
   "outputs": [
    {
     "name": "stderr",
     "output_type": "stream",
     "text": [
      "12-Oct-2017 12:27:26 INFO GEOparse - Parsing ./data/GSE26637_family.soft.gz: \n",
      "12-Oct-2017 12:27:26 DEBUG GEOparse - DATABASE: GeoMiame\n",
      "12-Oct-2017 12:27:26 DEBUG GEOparse - SERIES: GSE26637\n",
      "12-Oct-2017 12:27:26 DEBUG GEOparse - PLATFORM: GPL570\n",
      "/home/damiano/.local/lib/python3.5/site-packages/GEOparse/GEOparse.py:502: DtypeWarning: Columns (2) have mixed types. Specify dtype option on import or set low_memory=False.\n",
      "  gpls[entry_name] = parse_GPL(data_group, entry_name)\n",
      "12-Oct-2017 12:27:30 DEBUG GEOparse - SAMPLE: GSM655603\n",
      "12-Oct-2017 12:27:30 DEBUG GEOparse - SAMPLE: GSM655604\n",
      "12-Oct-2017 12:27:31 DEBUG GEOparse - SAMPLE: GSM655605\n",
      "12-Oct-2017 12:27:31 DEBUG GEOparse - SAMPLE: GSM655606\n",
      "12-Oct-2017 12:27:31 DEBUG GEOparse - SAMPLE: GSM655607\n",
      "12-Oct-2017 12:27:32 DEBUG GEOparse - SAMPLE: GSM655608\n",
      "12-Oct-2017 12:27:32 DEBUG GEOparse - SAMPLE: GSM655609\n",
      "12-Oct-2017 12:27:32 DEBUG GEOparse - SAMPLE: GSM655610\n",
      "12-Oct-2017 12:27:33 DEBUG GEOparse - SAMPLE: GSM655611\n",
      "12-Oct-2017 12:27:33 DEBUG GEOparse - SAMPLE: GSM655612\n",
      "12-Oct-2017 12:27:33 DEBUG GEOparse - SAMPLE: GSM655613\n",
      "12-Oct-2017 12:27:33 DEBUG GEOparse - SAMPLE: GSM655614\n",
      "12-Oct-2017 12:27:34 DEBUG GEOparse - SAMPLE: GSM655615\n",
      "12-Oct-2017 12:27:34 DEBUG GEOparse - SAMPLE: GSM655616\n",
      "12-Oct-2017 12:27:34 DEBUG GEOparse - SAMPLE: GSM655617\n",
      "12-Oct-2017 12:27:35 DEBUG GEOparse - SAMPLE: GSM655618\n",
      "12-Oct-2017 12:27:35 DEBUG GEOparse - SAMPLE: GSM655619\n",
      "12-Oct-2017 12:27:35 DEBUG GEOparse - SAMPLE: GSM655620\n",
      "12-Oct-2017 12:27:35 DEBUG GEOparse - SAMPLE: GSM655621\n",
      "12-Oct-2017 12:27:36 DEBUG GEOparse - SAMPLE: GSM655622\n"
     ]
    }
   ],
   "source": [
    "gse2 = GEOparse.get_GEO(filepath=\"./data/GSE26637_family.soft.gz\")"
   ]
  },
  {
   "cell_type": "code",
   "execution_count": 60,
   "metadata": {},
   "outputs": [
    {
     "name": "stdout",
     "output_type": "stream",
     "text": [
      "GPL570\n"
     ]
    }
   ],
   "source": [
    "plats_2 = list(gse2.gpls.keys())[0]\n",
    "print (plats_2)"
   ]
  },
  {
   "cell_type": "markdown",
   "metadata": {},
   "source": [
    "Annotation table"
   ]
  },
  {
   "cell_type": "code",
   "execution_count": 61,
   "metadata": {},
   "outputs": [
    {
     "name": "stdout",
     "output_type": "stream",
     "text": [
      "             fasting_status insulin_status   cbmi\n",
      "GSM655603           fasting      resistant  obese\n",
      "GSM655604           fasting      resistant  obese\n",
      "GSM655605           fasting      resistant  obese\n",
      "GSM655606           fasting      resistant  obese\n",
      "GSM655607           fasting      resistant  obese\n",
      "GSM655608           fasting      sensitive   lean\n",
      "GSM655609           fasting      sensitive   lean\n",
      "GSM655610           fasting      sensitive   lean\n",
      "GSM655611           fasting      sensitive   lean\n",
      "GSM655612           fasting      sensitive   lean\n",
      "GSM655613  hyperinsulinemia      resistant  obese\n",
      "GSM655614  hyperinsulinemia      resistant  obese\n",
      "GSM655615  hyperinsulinemia      resistant  obese\n",
      "GSM655616  hyperinsulinemia      resistant  obese\n",
      "GSM655617  hyperinsulinemia      resistant  obese\n",
      "GSM655618  hyperinsulinemia      sensitive   lean\n",
      "GSM655619  hyperinsulinemia      sensitive   lean\n",
      "GSM655620  hyperinsulinemia      sensitive   lean\n",
      "GSM655621  hyperinsulinemia      sensitive   lean\n",
      "GSM655622  hyperinsulinemia      sensitive   lean\n",
      "(20, 3)\n"
     ]
    }
   ],
   "source": [
    "samples2 = gse2.phenotype_data[[\"characteristics_ch1.2.stimulation\", \"characteristics_ch1.3.resistance status\"]]\n",
    "\n",
    "samples2 = samples2.rename(columns={'characteristics_ch1.2.stimulation':'fasting_status',\n",
    "                         'characteristics_ch1.3.resistance status':'insulin_status'})\n",
    "\n",
    "samples2['cbmi'] = samples2['insulin_status'].apply(lambda x: 'obese' if x == 'resistant' else 'lean')\n",
    "\n",
    "print(samples2)\n",
    "print(samples2.shape)"
   ]
  },
  {
   "cell_type": "code",
   "execution_count": 62,
   "metadata": {},
   "outputs": [],
   "source": [
    "with open('./output/batch2_ann.txt', 'w') as handle:\n",
    "    samples2.to_csv(handle, sep='\\t')"
   ]
  },
  {
   "cell_type": "markdown",
   "metadata": {},
   "source": [
    "# Preprocessing of Expression Data (Batch 2)"
   ]
  },
  {
   "cell_type": "code",
   "execution_count": 63,
   "metadata": {},
   "outputs": [
    {
     "name": "stdout",
     "output_type": "stream",
     "text": [
      "Expression Table \n",
      " name       GSM655603  GSM655604  GSM655605  GSM655606  GSM655607  GSM655608  \\\n",
      "ID                                                                            \n",
      "1007_s_at       5.14       5.15       5.15       5.22       5.16       5.11   \n",
      "1053_at         5.04       5.04       5.26       5.41       4.85       4.87   \n",
      "117_at          4.52       4.44       4.73       3.77       3.49       3.39   \n",
      "121_at          2.50       2.50       2.49       2.50       2.51       2.53   \n",
      "1255_g_at       2.20       2.23       2.22       2.23       2.23       2.27   \n",
      "\n",
      "name       GSM655609  GSM655610  GSM655611  GSM655612  GSM655613  GSM655614  \\\n",
      "ID                                                                            \n",
      "1007_s_at       5.16       5.85       5.18       4.89       5.41       5.06   \n",
      "1053_at         4.92       5.07       4.95       5.27       5.04       4.30   \n",
      "117_at          3.15       3.52       3.51       3.09       3.67       3.99   \n",
      "121_at          2.50       2.51       2.79       2.69       2.51       2.24   \n",
      "1255_g_at       2.22       2.27       2.23       2.22       2.25       2.23   \n",
      "\n",
      "name       GSM655615  GSM655616  GSM655617  GSM655618  GSM655619  GSM655620  \\\n",
      "ID                                                                            \n",
      "1007_s_at       5.15       5.15       5.16       5.16       5.47       5.17   \n",
      "1053_at         5.06       5.10       5.04       5.07       5.05       4.96   \n",
      "117_at          4.91       3.75       3.75       2.86       3.10       3.85   \n",
      "121_at          2.50       2.50       2.50       2.51       2.55       2.53   \n",
      "1255_g_at       2.22       2.21       2.21       2.34       2.24       2.40   \n",
      "\n",
      "name       GSM655621  GSM655622  \n",
      "ID                               \n",
      "1007_s_at       5.45       4.90  \n",
      "1053_at         4.71       5.27  \n",
      "117_at          3.48       2.88  \n",
      "121_at          2.77       2.50  \n",
      "1255_g_at       2.29       2.23  \n"
     ]
    }
   ],
   "source": [
    "samples2_exprs = gse2.pivot_samples('VALUE')[list(samples2.index)]\n",
    "samples2_exprs.index.name = 'ID'\n",
    "print('Expression Table', '\\n', samples2_exprs.head())"
   ]
  },
  {
   "cell_type": "markdown",
   "metadata": {},
   "source": [
    "Get annotation table with geoparse"
   ]
  },
  {
   "cell_type": "code",
   "execution_count": 64,
   "metadata": {},
   "outputs": [
    {
     "name": "stdout",
     "output_type": "stream",
     "text": [
      "Annotation Table:  \n",
      "           ID     ENTREZ_GENE_ID\n",
      "0  1007_s_at  780 /// 100616237\n",
      "1    1053_at               5982\n",
      "2     117_at               3310\n",
      "3     121_at               7849\n",
      "4  1255_g_at               2978\n"
     ]
    }
   ],
   "source": [
    "#ann_table2 = gse2.gpls[plats_2].table[[\"ID\", \"ENTREZ_GENE_ID\", \"Gene Symbol\"]]\n",
    "\n",
    "ann_table2 = gse2.gpls[plats_2].table[[\"ID\", \"ENTREZ_GENE_ID\"]]\n",
    "print('Annotation Table: ', '\\n', ann_table2.head())"
   ]
  },
  {
   "cell_type": "markdown",
   "metadata": {},
   "source": [
    "Remove probes without ENTREZ ID"
   ]
  },
  {
   "cell_type": "markdown",
   "metadata": {},
   "source": [
    "# 1) Probes containing missing values are excluded from the analysis."
   ]
  },
  {
   "cell_type": "code",
   "execution_count": 65,
   "metadata": {},
   "outputs": [
    {
     "name": "stdout",
     "output_type": "stream",
     "text": [
      "(54675, 20)\n",
      "(54675, 20)\n"
     ]
    }
   ],
   "source": [
    "print(samples2_exprs.shape)\n",
    "samples2_exprs = samples2_exprs.dropna()\n",
    "print(samples2_exprs.shape)"
   ]
  },
  {
   "cell_type": "markdown",
   "metadata": {},
   "source": [
    "# 5) Probes that cannot be mapped to a unique Entrez ID label are excluded from the analysis, as well as those that cannot be mapped to any Entrez ID label at all."
   ]
  },
  {
   "cell_type": "code",
   "execution_count": 66,
   "metadata": {
    "scrolled": false
   },
   "outputs": [
    {
     "name": "stdout",
     "output_type": "stream",
     "text": [
      "          ID     ENTREZ_GENE_ID\n",
      "0  1007_s_at  780 /// 100616237\n",
      "1    1053_at               5982\n",
      "2     117_at               3310\n",
      "3     121_at               7849\n",
      "4  1255_g_at               2978\n"
     ]
    }
   ],
   "source": [
    "ann_table = ann_table2.dropna()\n",
    "print(ann_table.head())"
   ]
  },
  {
   "cell_type": "markdown",
   "metadata": {},
   "source": [
    "Remove ids that refer to different Entrez ids:\n",
    "for example\n",
    "         ID                              Gene ID\n",
    "2   7896740                81099///79501///26682\n"
   ]
  },
  {
   "cell_type": "code",
   "execution_count": 67,
   "metadata": {
    "scrolled": false
   },
   "outputs": [
    {
     "name": "stdout",
     "output_type": "stream",
     "text": [
      "Shape with double entrez  (44134, 2)\n",
      "Shape without double entrez  (41834, 2)\n",
      "          ID ENTREZ_GENE_ID\n",
      "1    1053_at           5982\n",
      "2     117_at           3310\n",
      "3     121_at           7849\n",
      "4  1255_g_at           2978\n",
      "6    1316_at           7067\n"
     ]
    }
   ],
   "source": [
    "print('Shape with double entrez ', ann_table.shape)\n",
    "ann_table = ann_table[~ann_table['ENTREZ_GENE_ID'].str.contains(\"///\")]\n",
    "print('Shape without double entrez ', ann_table.shape)\n",
    "#ann_table = ann_table[~ann_table['Gene Symbol'].str.contains(\"///\")]\n",
    "#print('Shape without double gene symbols ', ann_table.shape)\n",
    "print(ann_table.head())"
   ]
  },
  {
   "cell_type": "markdown",
   "metadata": {},
   "source": [
    "# 2) Probes are mapped to Entrez ID labels if they are available in the associated platform."
   ]
  },
  {
   "cell_type": "code",
   "execution_count": 68,
   "metadata": {},
   "outputs": [
    {
     "name": "stdout",
     "output_type": "stream",
     "text": [
      "          ID ENTREZ_GENE_ID  GSM655603  GSM655604  GSM655605  GSM655606  \\\n",
      "1    1053_at           5982       5.04       5.04       5.26       5.41   \n",
      "2     117_at           3310       4.52       4.44       4.73       3.77   \n",
      "3     121_at           7849       2.50       2.50       2.49       2.50   \n",
      "4  1255_g_at           2978       2.20       2.23       2.22       2.23   \n",
      "6    1316_at           7067       4.40       5.02       5.47       3.99   \n",
      "\n",
      "   GSM655607  GSM655608  GSM655609  GSM655610    ...      GSM655613  \\\n",
      "1       4.85       4.87       4.92       5.07    ...           5.04   \n",
      "2       3.49       3.39       3.15       3.52    ...           3.67   \n",
      "3       2.51       2.53       2.50       2.51    ...           2.51   \n",
      "4       2.23       2.27       2.22       2.27    ...           2.25   \n",
      "6       4.32       5.37       6.64       4.17    ...           4.39   \n",
      "\n",
      "   GSM655614  GSM655615  GSM655616  GSM655617  GSM655618  GSM655619  \\\n",
      "1       4.30       5.06       5.10       5.04       5.07       5.05   \n",
      "2       3.99       4.91       3.75       3.75       2.86       3.10   \n",
      "3       2.24       2.50       2.50       2.50       2.51       2.55   \n",
      "4       2.23       2.22       2.21       2.21       2.34       2.24   \n",
      "6       4.72       5.33       5.69       4.38       4.19       4.84   \n",
      "\n",
      "   GSM655620  GSM655621  GSM655622  \n",
      "1       4.96       4.71       5.27  \n",
      "2       3.85       3.48       2.88  \n",
      "3       2.53       2.77       2.50  \n",
      "4       2.40       2.29       2.23  \n",
      "6       4.19       4.41       4.45  \n",
      "\n",
      "[5 rows x 22 columns]\n",
      "Shape of the complete DataFrame: (41834, 22)\n"
     ]
    }
   ],
   "source": [
    "exprs_2 = ann_table.merge(samples2_exprs, left_on='ID', right_index=True, how='inner')\n",
    "\n",
    "#exprs_2.index = exprs_2['Gene ID']; del exprs_2['Gene ID']\n",
    "print(exprs_2.head())\n",
    "print ('Shape of the complete DataFrame:', exprs_2.shape)"
   ]
  },
  {
   "cell_type": "markdown",
   "metadata": {},
   "source": [
    "\n",
    "# 3) Values corresponding to raw expression counts or gene expression intensity are log2 transformed (if necessary)."
   ]
  },
  {
   "cell_type": "markdown",
   "metadata": {},
   "source": [
    "# 4) Probes mapping to the same Entrez ID label are averaged out."
   ]
  },
  {
   "cell_type": "code",
   "execution_count": 69,
   "metadata": {},
   "outputs": [
    {
     "name": "stdout",
     "output_type": "stream",
     "text": [
      "                GSM655603  GSM655604  GSM655605  GSM655606  GSM655607  \\\n",
      "ENTREZ_GENE_ID                                                          \n",
      "1                2.110000   2.130000      2.120   2.140000   2.290000   \n",
      "10               2.140000   2.190000      2.190   2.190000   2.240000   \n",
      "100              6.075000   6.145000      6.820   6.010000   6.065000   \n",
      "1000             2.960000   3.005000      3.005   2.965000   3.105000   \n",
      "10000            5.065714   5.154286      4.720   4.955714   4.857143   \n",
      "\n",
      "                GSM655608  GSM655609  GSM655610  GSM655611  GSM655612  \\\n",
      "ENTREZ_GENE_ID                                                          \n",
      "1                2.150000      2.170   2.160000   2.130000   2.130000   \n",
      "10               2.200000      2.180   2.230000   2.290000   3.330000   \n",
      "100              5.835000      6.365   6.050000   5.515000   6.945000   \n",
      "1000             3.050000      3.110   3.040000   3.015000   3.015000   \n",
      "10000            4.921429      4.730   5.324286   4.944286   4.547143   \n",
      "\n",
      "                GSM655613  GSM655614  GSM655615  GSM655616  GSM655617  \\\n",
      "ENTREZ_GENE_ID                                                          \n",
      "1                2.160000   2.130000   2.130000   2.130000   2.120000   \n",
      "10               3.350000   2.210000   2.190000   2.180000   2.120000   \n",
      "100              6.360000   6.230000   7.645000   7.105000   7.720000   \n",
      "1000             3.175000   3.050000   2.945000   2.980000   3.005000   \n",
      "10000            4.991429   4.847143   5.114286   4.954286   4.967143   \n",
      "\n",
      "                GSM655618  GSM655619  GSM655620  GSM655621  GSM655622  \n",
      "ENTREZ_GENE_ID                                                         \n",
      "1                2.180000   2.140000   2.210000       2.16   2.140000  \n",
      "10               2.260000   2.200000   2.210000       2.21   2.170000  \n",
      "100              5.035000   7.550000   5.215000       5.80   7.570000  \n",
      "1000             3.285000   3.030000   3.225000       3.07   3.025000  \n",
      "10000            4.642857   4.828571   4.395714       5.04   4.517143  \n",
      "(20486, 20)\n"
     ]
    }
   ],
   "source": [
    "exprs_2 = exprs_2.groupby('ENTREZ_GENE_ID').mean()\n",
    "print(exprs_2.head())\n",
    "print (exprs_2.shape)"
   ]
  },
  {
   "cell_type": "markdown",
   "metadata": {},
   "source": [
    "# Write the eprs2 dataframe in a text file"
   ]
  },
  {
   "cell_type": "code",
   "execution_count": 70,
   "metadata": {
    "collapsed": true
   },
   "outputs": [],
   "source": [
    "with open('./output/batch2_exprs.txt', 'w') as handle:\n",
    "    to_write = exprs_2.T\n",
    "    to_write.to_csv(handle, sep='\\t')"
   ]
  },
  {
   "cell_type": "markdown",
   "metadata": {},
   "source": [
    "# Comparison with the data provided by the authors"
   ]
  },
  {
   "cell_type": "code",
   "execution_count": 74,
   "metadata": {},
   "outputs": [
    {
     "name": "stdout",
     "output_type": "stream",
     "text": [
      "              1    10    100   1000     10000  100009676   10001  10002  \\\n",
      "GSM655608  2.15  2.20  5.835  3.050  5.108333      2.615  5.5675  2.685   \n",
      "GSM655609  2.17  2.18  6.365  3.110  4.960000      2.555  5.5900  2.515   \n",
      "GSM655610  2.16  2.23  6.050  3.040  5.420000      2.585  6.4375  2.575   \n",
      "GSM655611  2.13  2.29  5.515  3.015  5.131667      2.560  5.7900  2.540   \n",
      "GSM655612  2.13  3.33  6.945  3.015  4.701667      2.565  6.0175  2.535   \n",
      "GSM655618  2.18  2.26  5.035  3.285  4.760000      2.695  4.8550  2.805   \n",
      "GSM655619  2.14  2.20  7.550  3.030  4.813333      2.570  5.7650  2.555   \n",
      "GSM655620  2.21  2.21  5.215  3.225  4.520000      2.740  4.6975  2.835   \n",
      "GSM655621  2.16  2.21  5.800  3.070  5.190000      2.985  4.8750  2.845   \n",
      "GSM655622  2.14  2.17  7.570  3.025  4.675000      2.570  5.8050  2.820   \n",
      "GSM655603  2.11  2.14  6.075  2.960  5.038333      2.545  6.2275  2.475   \n",
      "GSM655604  2.13  2.19  6.145  3.005  5.378333      2.520  6.0700  2.530   \n",
      "GSM655605  2.12  2.19  6.820  3.005  4.888333      2.695  5.4050  2.515   \n",
      "GSM655606  2.14  2.19  6.010  2.965  5.063333      2.555  6.0425  2.525   \n",
      "GSM655607  2.29  2.24  6.065  3.105  4.996667      2.595  5.6050  2.635   \n",
      "GSM655613  2.16  3.35  6.360  3.175  5.146667      2.970  4.4850  2.700   \n",
      "GSM655614  2.13  2.21  6.230  3.050  5.001667      2.575  5.7775  2.565   \n",
      "GSM655615  2.13  2.19  7.645  2.945  5.156667      2.635  5.9475  2.530   \n",
      "GSM655616  2.13  2.18  7.105  2.980  5.176667      2.535  5.4800  2.520   \n",
      "GSM655617  2.12  2.12  7.720  3.005  5.205000      2.765  5.9925  2.485   \n",
      "\n",
      "           10003  10004  ...       9987  9988   9989    999      9990   9991  \\\n",
      "GSM655608  3.802  3.090  ...   8.868333  9.59  6.460  2.295  4.163333  5.202   \n",
      "GSM655609  3.632  3.670  ...   9.008333  8.55  5.975  2.285  4.283333  5.134   \n",
      "GSM655610  4.116  2.570  ...   9.085000  9.57  5.845  2.310  4.430000  5.026   \n",
      "GSM655611  4.504  2.830  ...   9.083333  9.63  6.090  2.265  4.333333  5.060   \n",
      "GSM655612  3.884  2.695  ...   9.330000  9.23  5.740  2.270  4.403333  5.050   \n",
      "GSM655618  3.772  2.580  ...   8.765000  9.25  6.320  2.385  3.700000  4.648   \n",
      "GSM655619  3.712  2.500  ...   8.930000  9.36  5.790  2.280  4.573333  4.796   \n",
      "GSM655620  3.836  3.595  ...   8.968333  8.26  6.135  2.380  3.993333  4.658   \n",
      "GSM655621  4.336  2.820  ...   8.316667  8.87  5.870  2.320  3.800000  4.748   \n",
      "GSM655622  3.950  2.530  ...   8.958333  8.86  5.865  2.280  4.260000  4.840   \n",
      "GSM655603  3.228  2.500  ...   9.131667  9.25  6.065  2.245  4.626667  5.440   \n",
      "GSM655604  3.494  2.650  ...   8.681667  9.85  6.440  2.270  4.540000  5.420   \n",
      "GSM655605  3.558  2.935  ...   8.938333  8.97  5.995  2.260  4.150000  4.960   \n",
      "GSM655606  3.232  2.485  ...   8.568333  9.63  6.140  2.270  4.476667  5.338   \n",
      "GSM655607  3.678  2.475  ...   8.998333  9.40  6.085  2.290  4.560000  5.096   \n",
      "GSM655613  3.508  2.530  ...   8.441667  9.12  6.120  2.300  4.520000  5.236   \n",
      "GSM655614  3.292  2.535  ...   8.720000  9.47  6.395  2.285  4.236667  5.290   \n",
      "GSM655615  3.800  2.490  ...   8.786667  8.72  6.030  2.265  4.520000  5.262   \n",
      "GSM655616  3.202  3.180  ...   8.733333  8.44  6.250  2.245  4.230000  5.230   \n",
      "GSM655617  3.716  2.785  ...   8.976667  9.29  5.965  2.255  4.260000  4.958   \n",
      "\n",
      "           9992      9993   9994  9997  \n",
      "GSM655608  2.62  4.436667  5.175  6.21  \n",
      "GSM655609  2.51  4.580000  4.915  6.02  \n",
      "GSM655610  3.42  4.623333  5.510  3.94  \n",
      "GSM655611  2.51  4.336667  5.125  6.46  \n",
      "GSM655612  2.51  4.366667  5.155  6.43  \n",
      "GSM655618  2.62  4.553333  4.860  7.58  \n",
      "GSM655619  3.33  4.550000  4.945  6.64  \n",
      "GSM655620  2.83  4.526667  4.020  7.02  \n",
      "GSM655621  2.80  4.680000  4.870  6.49  \n",
      "GSM655622  2.52  4.100000  4.700  7.36  \n",
      "GSM655603  2.43  4.350000  5.215  7.09  \n",
      "GSM655604  2.51  4.570000  5.260  7.48  \n",
      "GSM655605  2.50  4.276667  5.140  7.64  \n",
      "GSM655606  2.51  4.380000  5.170  5.53  \n",
      "GSM655607  2.53  4.286667  4.775  6.94  \n",
      "GSM655613  2.67  4.613333  4.790  7.10  \n",
      "GSM655614  2.54  4.636667  5.000  7.30  \n",
      "GSM655615  2.50  4.296667  5.085  7.44  \n",
      "GSM655616  2.48  4.390000  5.030  6.94  \n",
      "GSM655617  2.48  4.456667  5.320  6.49  \n",
      "\n",
      "[20 rows x 20283 columns]\n",
      "(20, 20283)\n"
     ]
    }
   ],
   "source": [
    "or_data2 = pd.read_pickle('./data/GSE26637_geno.p')\n",
    "print (or_data2)\n",
    "print (or_data2.shape)"
   ]
  },
  {
   "cell_type": "code",
   "execution_count": null,
   "metadata": {
    "collapsed": true
   },
   "outputs": [],
   "source": []
  }
 ],
 "metadata": {
  "kernelspec": {
   "display_name": "Python 3",
   "language": "python",
   "name": "python3"
  },
  "language_info": {
   "codemirror_mode": {
    "name": "ipython",
    "version": 3
   },
   "file_extension": ".py",
   "mimetype": "text/x-python",
   "name": "python",
   "nbconvert_exporter": "python",
   "pygments_lexer": "ipython3",
   "version": "3.5.2"
  }
 },
 "nbformat": 4,
 "nbformat_minor": 2
}
